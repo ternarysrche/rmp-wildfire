{
 "cells": [
  {
   "cell_type": "code",
   "execution_count": 1,
   "id": "2444ea14",
   "metadata": {},
   "outputs": [
    {
     "name": "stderr",
     "output_type": "stream",
     "text": [
      "C:\\Users\\rmpjazz\\AppData\\Local\\Temp\\ipykernel_94472\\69770969.py:8: DeprecationWarning: Importing display from IPython.core.display is deprecated since IPython 7.14, please import from IPython display\n",
      "  from IPython.core.display import display, HTML\n"
     ]
    },
    {
     "data": {
      "text/html": [
       "<style>.container { width:100% !important; }</style>"
      ],
      "text/plain": [
       "<IPython.core.display.HTML object>"
      ]
     },
     "metadata": {},
     "output_type": "display_data"
    }
   ],
   "source": [
    "####### IMPORTS\n",
    "import pandas as pd\n",
    "import geopandas\n",
    "import numpy as np\n",
    "import matplotlib.pyplot as plt\n",
    "from tqdm.notebook import tqdm\n",
    "import shapely.geometry\n",
    "from IPython.core.display import display, HTML\n",
    "from shapely.geometry import Polygon\n",
    "display(HTML(\"<style>.container { width:100% !important; }</style>\"))"
   ]
  },
  {
   "cell_type": "code",
   "execution_count": 2,
   "id": "19f99239",
   "metadata": {},
   "outputs": [],
   "source": [
    "####### IMPORT DATA\n",
    "cell_geo = pd.read_pickle(\"./dataframes/cell_geometry\")\n",
    "cell = geopandas.GeoDataFrame(cell_geo, columns=['geometry'], \n",
    "                                 crs='epsg:4326')\n",
    "\n",
    "jsonfile = ('./mygeodata/fire_station_point.geojson')\n",
    "fire_station_points = geopandas.read_file(jsonfile)\n",
    "\n",
    "jsonfile = ('./ark28722-s73w23-geojson.json')\n",
    "world = geopandas.read_file(jsonfile)\n",
    "\n",
    "fires = pd.read_pickle(\"./dataframes/all_fires\")\n",
    "fires = fires[~fires[\"GIS_ACRES\"].isnull()]\n",
    "fires = fires[~fires.duplicated()]\n",
    "fires = fires[~fires[[\"FIRE_NAME\", \"INC_NUM\", \"ALARM_DATE\", \"CONT_DATE\", \"CAUSE\", \"geometry\"]].duplicated()]\n",
    "\n",
    "fires = fires.loc[(fires[\"YEAR\"] >= 2020) & (fires[\"YEAR\"] <= 2023) & (fires[\"MONTH\"] >= 6) & (fires[\"MONTH\"] <= 10)]\n",
    "\n"
   ]
  },
  {
   "cell_type": "code",
   "execution_count": 3,
   "id": "b596f87f",
   "metadata": {},
   "outputs": [],
   "source": [
    "####### PLOTTING\n",
    "import matplotlib.colors as colors\n",
    "\n",
    "def plotter(dataset):\n",
    "    cell[\"interpolated_value\"] = dataset\n",
    "    ax = cell.plot(column='interpolated_value', figsize=(10, 10), cmap='plasma', legend=True)\n",
    "    world.to_crs(cell.crs).plot(ax = ax, color = \"none\", edgecolor = 'black', figsize = (8,8))\n",
    "    return ax\n",
    "def log_plotter(dataset):\n",
    "    cell[\"interpolated_value\"] = dataset\n",
    "    ax = cell.plot(column='interpolated_value', figsize=(10, 10), cmap='plasma', norm=colors.SymLogNorm(vmin=cell[\"interpolated_value\"].min(), vmax=cell[\"interpolated_value\"].max(), linthresh = 0.02), legend=True)\n",
    "    world.to_crs(cell.crs).plot(ax = ax, color = \"none\", edgecolor = 'black', figsize = (8,8))\n"
   ]
  },
  {
   "cell_type": "code",
   "execution_count": 4,
   "id": "f117a09c",
   "metadata": {},
   "outputs": [
    {
     "data": {
      "application/vnd.jupyter.widget-view+json": {
       "model_id": "d994868b46d1404c8ecfc2d5042ea822",
       "version_major": 2,
       "version_minor": 0
      },
      "text/plain": [
       "  0%|          | 0/1143 [00:00<?, ?it/s]"
      ]
     },
     "metadata": {},
     "output_type": "display_data"
    }
   ],
   "source": [
    "###### FIRESTATION POINT TO CELL\n",
    "n_cells=828\n",
    "\n",
    "cell_bounds = {}\n",
    "for j in cell.index:\n",
    "    cell_bounds[j] = cell[\"geometry\"][j].bounds\n",
    "\n",
    "positions_cell = [(int((cell[\"geometry\"][i].centroid.x+125)*n_cells/12), int((cell[\"geometry\"][i].centroid.y-32)*n_cells/12)) for i in cell.index]\n",
    "cell[\"position\"] = positions_cell\n",
    "cell = cell.sort_values(by=[\"position\"])\n",
    "\n",
    "cell_size = (12)/n_cells\n",
    "positions_fs = [(int((fire_station_points[\"geometry\"][i].x+125)*n_cells/12), fire_station_points[\"geometry\"][i].y) for i in fire_station_points.index]\n",
    "fire_station_points[\"position\"] = positions_fs\n",
    "fire_station_points = fire_station_points.sort_values(by=[\"position\"])\n",
    "\n",
    "ind = {}\n",
    "indj = 0\n",
    "j = cell.index[indj]\n",
    "for i in tqdm(fire_station_points.index):\n",
    "    xc = fire_station_points[\"geometry\"][i].x\n",
    "    yc = fire_station_points[\"geometry\"][i].y\n",
    "    \n",
    "    start = indj\n",
    "    broken = False\n",
    "    while not(cell_bounds[j][0] <= xc and cell_bounds[j][1] <= yc and cell_bounds[j][2] >= xc and cell_bounds[j][3] >= yc):\n",
    "        indj += 1\n",
    "        j = cell.index[indj]\n",
    "        \n",
    "        if (cell[\"position\"][j][0] > fire_station_points[\"position\"][i][0]):\n",
    "            indj = start\n",
    "            j = cell.index[indj]\n",
    "            broken = True\n",
    "            break\n",
    "    if (broken):\n",
    "        ind[i] = np.nan\n",
    "    else:\n",
    "        ind[i] = j\n",
    "# null_firestations = []\n",
    "# for x in ind.keys():\n",
    "#     if (ind[x] is np.nan):\n",
    "#         null_firestations.append(x)\n",
    "# for i in fire_station_points.index:\n",
    "#     if (np.isnan(ind[i]))\n",
    "# fire_station_points = fire_station_points[[(not (i in null_firestations)) for i in fire_station_points.index]]\n"
   ]
  },
  {
   "cell_type": "code",
   "execution_count": 5,
   "id": "1b13fc77",
   "metadata": {},
   "outputs": [],
   "source": [
    "def check1(pos, size_coverage):\n",
    "    score = 0\n",
    "    for row in range(size_coverage):\n",
    "        for column in range(size_coverage):\n",
    "            new_ind = pos+column+row*760\n",
    "            if new_ind in cell.index:\n",
    "                score += cell[\"interpolated_value\"][new_ind]\n",
    "    return (score, 1)\n",
    "def check2(pos, size_coverage):\n",
    "    score = 0\n",
    "    for row in range(size_coverage):\n",
    "        for column in range(size_coverage):\n",
    "            new_ind = pos-column+row*760\n",
    "            if new_ind in cell.index:\n",
    "                score += cell[\"interpolated_value\"][new_ind]\n",
    "    return (score, 2)\n",
    "def check3(pos, size_coverage):\n",
    "    score = 0\n",
    "    for row in range(size_coverage):\n",
    "        for column in range(size_coverage):\n",
    "            new_ind = pos-column-row*760\n",
    "            if new_ind in cell.index:\n",
    "                score += cell[\"interpolated_value\"][new_ind]\n",
    "    return (score, 3)\n",
    "def check4(pos, size_coverage):\n",
    "    score = 0\n",
    "    for row in range(size_coverage):\n",
    "        for column in range(size_coverage):\n",
    "            new_ind = pos+column-row*760\n",
    "            if new_ind in cell.index:\n",
    "                score += cell[\"interpolated_value\"][new_ind]\n",
    "    return (score, 4)\n",
    "def check5(pos, size_coverage):\n",
    "    score = 0\n",
    "    for row in range(-(size_coverage//2), size_coverage//2+1):\n",
    "        for column in range(size_coverage):\n",
    "            new_ind = pos+column+row*760\n",
    "            if new_ind in cell.index:\n",
    "                score += cell[\"interpolated_value\"][new_ind]\n",
    "    return (score, 5)\n",
    "def check6(pos, size_coverage):\n",
    "    score = 0\n",
    "    for row in range(-(size_coverage//2), size_coverage//2+1):\n",
    "        for column in range(size_coverage):\n",
    "            new_ind = pos-column+row*760\n",
    "            if new_ind in cell.index:\n",
    "                score += cell[\"interpolated_value\"][new_ind]\n",
    "    return (score, 6)\n",
    "def check7(pos, size_coverage):\n",
    "    score = 0\n",
    "    for row in range(size_coverage):\n",
    "        for column in range(-(size_coverage//2), size_coverage//2+1):\n",
    "            new_ind = pos+column-row*760\n",
    "            if new_ind in cell.index:\n",
    "                score += cell[\"interpolated_value\"][new_ind]\n",
    "    return (score, 7)\n",
    "def check8(pos, size_coverage):\n",
    "    score = 0\n",
    "    for row in range(size_coverage):\n",
    "        for column in range(-(size_coverage//2), size_coverage//2+1):\n",
    "            new_ind = pos+column+row*760\n",
    "            if new_ind in cell.index:\n",
    "                score += cell[\"interpolated_value\"][new_ind]\n",
    "    return (score, 8)\n",
    "def check9(pos, size_coverage):\n",
    "    score = 0\n",
    "    for row in range(-(size_coverage//2), size_coverage//2+1):\n",
    "        for column in range(-(size_coverage//2), size_coverage//2+1):\n",
    "            new_ind = pos+column-row*760\n",
    "            if new_ind in cell.index:\n",
    "                score += cell[\"interpolated_value\"][new_ind]\n",
    "    return (score, 9)      \n",
    "\n",
    "def check(pos, di, size_coverage):\n",
    "#     print(pos, di)\n",
    "#     return (cell[\"interpolated_value\"][pos], di, cell[\"geometry\"][pos])\n",
    "    if (di == 1):\n",
    "        return check1(pos, size_coverage)\n",
    "    if (di == 2):\n",
    "        return check2(pos, size_coverage)\n",
    "    if (di == 3):\n",
    "        return check3(pos, size_coverage)\n",
    "    if (di == 4):\n",
    "        return check4(pos, size_coverage)\n",
    "    if (di == 5):\n",
    "        return check5(pos, size_coverage)\n",
    "    if (di == 6):\n",
    "        return check6(pos, size_coverage)\n",
    "    if (di == 7):\n",
    "        return check7(pos, size_coverage)\n",
    "    if (di == 8):\n",
    "        return check8(pos, size_coverage)\n",
    "    if (di == 9):\n",
    "        return check9(pos, size_coverage)\n",
    "def null1(pos, size_coverage):\n",
    "    score = 0\n",
    "    for row in range(size_coverage):\n",
    "        for column in range(size_coverage):\n",
    "            new_ind = pos+column+row*760\n",
    "            cell.loc[new_ind,\"interpolated_value\"] = 0\n",
    "def null2(pos, size_coverage):\n",
    "    score = 0\n",
    "    for row in range(size_coverage):\n",
    "        for column in range(size_coverage):\n",
    "            new_ind = pos-column+row*760\n",
    "            cell.loc[new_ind,\"interpolated_value\"] = 0\n",
    "def null3(pos, size_coverage):\n",
    "    score = 0\n",
    "    for row in range(size_coverage):\n",
    "        for column in range(size_coverage):\n",
    "            new_ind = pos-column-row*760\n",
    "            cell.loc[new_ind,\"interpolated_value\"] = 0\n",
    "def null4(pos, size_coverage):\n",
    "    score = 0\n",
    "    for row in range(size_coverage):\n",
    "        for column in range(size_coverage):\n",
    "            new_ind = pos+column-row*760\n",
    "            cell.loc[new_ind,\"interpolated_value\"] = 0\n",
    "def null5(pos, size_coverage):\n",
    "    score = 0\n",
    "    for row in range(-(size_coverage//2), size_coverage//2+1):\n",
    "        for column in range(size_coverage):\n",
    "            new_ind = pos+column+row*760\n",
    "            cell.loc[new_ind,\"interpolated_value\"] = 0\n",
    "def null6(pos, size_coverage):\n",
    "    score = 0\n",
    "    for row in range(-(size_coverage//2), size_coverage//2+1):\n",
    "        for column in range(size_coverage):\n",
    "            new_ind = pos-column+row*760\n",
    "            cell.loc[new_ind,\"interpolated_value\"] = 0\n",
    "def null7(pos, size_coverage):\n",
    "    score = 0\n",
    "    for row in range(size_coverage):\n",
    "        for column in range(-(size_coverage//2), size_coverage//2+1):\n",
    "            new_ind = pos+column-row*760\n",
    "            cell.loc[new_ind,\"interpolated_value\"] = 0\n",
    "def null8(pos, size_coverage):\n",
    "    score = 0\n",
    "    for row in range(size_coverage):\n",
    "        for column in range(-(size_coverage//2), size_coverage//2+1):\n",
    "            new_ind = pos+column+row*760\n",
    "            cell.loc[new_ind,\"interpolated_value\"] = 0\n",
    "def null9(pos, size_coverage):\n",
    "    score = 0\n",
    "    for row in range(-(size_coverage//2), size_coverage//2+1):\n",
    "        for column in range(-(size_coverage//2), size_coverage//2+1):\n",
    "            new_ind = pos+column-row*760\n",
    "            cell.loc[new_ind,\"interpolated_value\"] = 0\n",
    "\n",
    "def null(pos, di, size_coverage):\n",
    "    if (di == 1):\n",
    "        null1(pos, size_coverage)\n",
    "    if (di == 2):\n",
    "        null2(pos, size_coverage)\n",
    "    if (di == 3):\n",
    "        null3(pos, size_coverage)\n",
    "    if (di == 4):\n",
    "        null4(pos, size_coverage)\n",
    "    if (di == 5):\n",
    "        null5(pos, size_coverage)\n",
    "    if (di == 6):\n",
    "        null6(pos, size_coverage)\n",
    "    if (di == 7):\n",
    "        null7(pos, size_coverage)\n",
    "    if (di == 8):\n",
    "        null8(pos, size_coverage)\n",
    "    if (di == 9):\n",
    "        null9(pos, size_coverage)"
   ]
  },
  {
   "cell_type": "code",
   "execution_count": null,
   "id": "1b512d17",
   "metadata": {},
   "outputs": [],
   "source": []
  },
  {
   "cell_type": "code",
   "execution_count": 6,
   "id": "0e5efad4",
   "metadata": {},
   "outputs": [],
   "source": [
    "def go_enhanced(coverage_numbers, size_coverage):\n",
    "    coverage_numbers.sort()\n",
    "    cell_size = (12)/n_cells\n",
    "    cell[\"interpolated_value\"] = dataframe.copy()\n",
    "    \n",
    "    ##### THIS EXISTS BTW\n",
    "    cell[\"interpolated_value\"] = cell[\"interpolated_value\"].replace(np.nan, 0)\n",
    "\n",
    "    all_coverages = []\n",
    "\n",
    "    for i in fire_station_points.index:\n",
    "\n",
    "        pos = ind[i]\n",
    "        \n",
    "        if (np.isnan(pos)):\n",
    "            continue\n",
    "        \n",
    "        for diit in range(1, 10):\n",
    "            score, di = check(pos, diit, size_coverage)\n",
    "            all_coverages.append((score, pos, diit, i))\n",
    "\n",
    "    all_coverages.sort()\n",
    "\n",
    "    ret = []\n",
    "    selected_coverages = []\n",
    "    summed_coverage = 0\n",
    "    mex = max(coverage_numbers)\n",
    "#     print(all_coverages)\n",
    "    for i in tqdm(range(mex)):\n",
    "        if (i in coverage_numbers):\n",
    "            ret.append((summed_coverage, selected_coverages.copy()))\n",
    "        summed_coverage += all_coverages[-1][0]\n",
    "#         print(summed_coverage)\n",
    "        selected_coverages.append(all_coverages[-1])\n",
    "        null(all_coverages[-1][1], all_coverages[-1][2], size_coverage)\n",
    "        for coverage_num in range(len(all_coverages)):\n",
    "            score, di = check(all_coverages[coverage_num][1], all_coverages[coverage_num][2], size_coverage)\n",
    "    #         print(all_coverages[coverage_num])\n",
    "    #         print((score, all_coverages[coverage_num][1], di, all_coverages[coverage_num][3]))\n",
    "    #         print()\n",
    "            all_coverages[coverage_num] = (score, all_coverages[coverage_num][1], di, all_coverages[coverage_num][3])\n",
    "\n",
    "        all_coverages.sort()\n",
    "    ret.append((summed_coverage, selected_coverages.copy()))\n",
    "    return ret"
   ]
  },
  {
   "cell_type": "code",
   "execution_count": 7,
   "id": "92edf8ad",
   "metadata": {},
   "outputs": [],
   "source": [
    "# def countcovered(coverages, size):\n",
    "#     totalcovered = 0\n",
    "#     ansar = np.array([False for i in range(len(fires))])\n",
    "#     for x in coverages:\n",
    "#         indx = x[1]\n",
    "#         minx, miny, maxx, maxy = cell[\"geometry\"][indx].bounds\n",
    "#         if (x[2] == 1):\n",
    "#             pos = (minx, miny)\n",
    "#         if (x[2] == 2):\n",
    "#             pos = (minx, maxy-size*12/n_cells)\n",
    "#         if (x[2] == 3):\n",
    "#             pos = (maxx-size*12/n_cells, maxy-size*12/n_cells)\n",
    "#         if (x[2] == 4):\n",
    "#             pos = (maxx-size*12/n_cells, miny)\n",
    "#         if (x[2] == 5):\n",
    "#             pos = (minx-(size//2)*12/n_cells, miny)\n",
    "#         if (x[2] == 6):\n",
    "#             pos = (minx-(size//2)*12/n_cells, maxy-size*12/n_cells)\n",
    "#         if (x[2] == 7):\n",
    "#             pos = (maxx-size*12/n_cells, miny-(size//2)*12/n_cells)\n",
    "#         if (x[2] == 8):\n",
    "#             pos = (minx, miny-(size//2)*12/n_cells)\n",
    "#         if (x[2] == 9):\n",
    "#             pos = (minx-(size//2)*12/n_cells, miny-(size//2)*12/n_cells)\n",
    "#         polygon = Polygon([(pos[0], pos[1]), (pos[0] + size*12/n_cells, pos[1]), (pos[0] + size*12/n_cells, pos[1] + size*12/n_cells), (pos[0], pos[1] + size*12/n_cells)])\n",
    "# #         coverage_bounds = (pos[0], pos[1], , pos[1] + 5*12/n_cells)\n",
    "# #         print(polygon)\n",
    "#         ansar = np.logical_or(ansar, fires.overlaps(polygon))\n",
    "#         ansar = np.logical_or(ansar, fires.within(polygon))\n",
    "#         ansar = np.logical_or(ansar, fires.contains(polygon))\n",
    "#     return ansar.sum()\n",
    "\n",
    "def countcovered_enhanced(coverages, size):\n",
    "    totalcovered = 0\n",
    "    ansar = np.array([False for i in range(len(fires))])\n",
    "    res = [0]\n",
    "    for x in coverages:\n",
    "        indx = x[1]\n",
    "        minx, miny, maxx, maxy = cell[\"geometry\"][indx].bounds\n",
    "        if (x[2] == 1):\n",
    "            pos = (minx, miny)\n",
    "        if (x[2] == 2):\n",
    "            pos = (minx, maxy-size*12/n_cells)\n",
    "        if (x[2] == 3):\n",
    "            pos = (maxx-size*12/n_cells, maxy-size*12/n_cells)\n",
    "        if (x[2] == 4):\n",
    "            pos = (maxx-size*12/n_cells, miny)\n",
    "        if (x[2] == 5):\n",
    "            pos = (minx-(size//2)*12/n_cells, miny)\n",
    "        if (x[2] == 6):\n",
    "            pos = (minx-(size//2)*12/n_cells, maxy-size*12/n_cells)\n",
    "        if (x[2] == 7):\n",
    "            pos = (maxx-size*12/n_cells, miny-(size//2)*12/n_cells)\n",
    "        if (x[2] == 8):\n",
    "            pos = (minx, miny-(size//2)*12/n_cells)\n",
    "        if (x[2] == 9):\n",
    "            pos = (minx-(size//2)*12/n_cells, miny-(size//2)*12/n_cells)\n",
    "        polygon = Polygon([(pos[0], pos[1]), (pos[0] + size*12/n_cells, pos[1]), (pos[0] + size*12/n_cells, pos[1] + size*12/n_cells), (pos[0], pos[1] + size*12/n_cells)])\n",
    "#         coverage_bounds = (pos[0], pos[1], , pos[1] + 5*12/n_cells)\n",
    "#         print(polygon)\n",
    "        ansar = np.logical_or(ansar, fires.overlaps(polygon))\n",
    "        ansar = np.logical_or(ansar, fires.within(polygon))\n",
    "        ansar = np.logical_or(ansar, fires.contains(polygon))\n",
    "        res.append(ansar.sum())\n",
    "    return res\n",
    "\n",
    "# def countcoveredacres(coverages, size):\n",
    "#     totalcovered = 0\n",
    "#     ansar = np.array([False for i in range(len(fires))])\n",
    "#     for x in coverages:\n",
    "#         indx = x[1]\n",
    "#         minx, miny, maxx, maxy = cell[\"geometry\"][indx].bounds\n",
    "#         if (x[2] == 1):\n",
    "#             pos = (minx, miny)\n",
    "#         if (x[2] == 2):\n",
    "#             pos = (minx, maxy-size*12/n_cells)\n",
    "#         if (x[2] == 3):\n",
    "#             pos = (maxx-size*12/n_cells, maxy-size*12/n_cells)\n",
    "#         if (x[2] == 4):\n",
    "#             pos = (maxx-size*12/n_cells, miny)\n",
    "#         if (x[2] == 5):\n",
    "#             pos = (minx-(size//2)*12/n_cells, miny)\n",
    "#         if (x[2] == 6):\n",
    "#             pos = (minx-(size//2)*12/n_cells, maxy-size*12/n_cells)\n",
    "#         if (x[2] == 7):\n",
    "#             pos = (maxx-size*12/n_cells, miny-(size//2)*12/n_cells)\n",
    "#         if (x[2] == 8):\n",
    "#             pos = (minx, miny-(size//2)*12/n_cells)\n",
    "#         if (x[2] == 9):\n",
    "#             pos = (minx-(size//2)*12/n_cells, miny-(size//2)*12/n_cells)\n",
    "#         polygon = Polygon([(pos[0], pos[1]), (pos[0] + size*12/n_cells, pos[1]), (pos[0] + size*12/n_cells, pos[1] + size*12/n_cells), (pos[0], pos[1] + size*12/n_cells)])\n",
    "# #         coverage_bounds = (pos[0], pos[1], , pos[1] + 5*12/n_cells)\n",
    "# #         print(polygon)\n",
    "#         ansar = np.logical_or(ansar, fires.overlaps(polygon))\n",
    "#         ansar = np.logical_or(ansar, fires.within(polygon))\n",
    "#         ansar = np.logical_or(ansar, fires.contains(polygon))\n",
    "#     return np.nansum(fires[\"GIS_ACRES\"][ansar])\n",
    "\n",
    "def countcoveredacres_enhanced(coverages, size):\n",
    "    totalcovered = 0\n",
    "    ansar = np.array([False for i in range(len(fires))])\n",
    "    res = [0]\n",
    "    for x in coverages:\n",
    "        indx = x[1]\n",
    "        minx, miny, maxx, maxy = cell[\"geometry\"][indx].bounds\n",
    "        if (x[2] == 1):\n",
    "            pos = (minx, miny)\n",
    "        if (x[2] == 2):\n",
    "            pos = (minx, maxy-size*12/n_cells)\n",
    "        if (x[2] == 3):\n",
    "            pos = (maxx-size*12/n_cells, maxy-size*12/n_cells)\n",
    "        if (x[2] == 4):\n",
    "            pos = (maxx-size*12/n_cells, miny)\n",
    "        if (x[2] == 5):\n",
    "            pos = (minx-(size//2)*12/n_cells, miny)\n",
    "        if (x[2] == 6):\n",
    "            pos = (minx-(size//2)*12/n_cells, maxy-size*12/n_cells)\n",
    "        if (x[2] == 7):\n",
    "            pos = (maxx-size*12/n_cells, miny-(size//2)*12/n_cells)\n",
    "        if (x[2] == 8):\n",
    "            pos = (minx, miny-(size//2)*12/n_cells)\n",
    "        if (x[2] == 9):\n",
    "            pos = (minx-(size//2)*12/n_cells, miny-(size//2)*12/n_cells)\n",
    "        polygon = Polygon([(pos[0], pos[1]), (pos[0] + size*12/n_cells, pos[1]), (pos[0] + size*12/n_cells, pos[1] + size*12/n_cells), (pos[0], pos[1] + size*12/n_cells)])\n",
    "#         coverage_bounds = (pos[0], pos[1], , pos[1] + 5*12/n_cells)\n",
    "#         print(polygon)\n",
    "        ansar = np.logical_or(ansar, fires.overlaps(polygon))\n",
    "        ansar = np.logical_or(ansar, fires.within(polygon))\n",
    "        ansar = np.logical_or(ansar, fires.contains(polygon))\n",
    "        res.append(np.nansum(fires[\"GIS_ACRES\"][ansar]))\n",
    "    return res\n"
   ]
  },
  {
   "cell_type": "code",
   "execution_count": 8,
   "id": "40f920e7",
   "metadata": {},
   "outputs": [],
   "source": [
    "dataframe_name = \"./dataframes/2000-2019/\" + str(\"linear_interpolation_log\")\n",
    "dataframe = pd.read_pickle(dataframe_name)\n",
    "cell[\"interpolated_value\"] = dataframe.copy()"
   ]
  },
  {
   "cell_type": "code",
   "execution_count": 9,
   "id": "f2357928",
   "metadata": {},
   "outputs": [
    {
     "data": {
      "text/plain": [
       "11.802599479731168"
      ]
     },
     "execution_count": 9,
     "metadata": {},
     "output_type": "execute_result"
    }
   ],
   "source": [
    "np.max(dataframe)"
   ]
  },
  {
   "cell_type": "code",
   "execution_count": 10,
   "id": "c6bcad22",
   "metadata": {
    "scrolled": false
   },
   "outputs": [
    {
     "data": {
      "application/vnd.jupyter.widget-view+json": {
       "model_id": "296b4271be524fd686da11f758a94f94",
       "version_major": 2,
       "version_minor": 0
      },
      "text/plain": [
       "  0%|          | 0/1000 [00:00<?, ?it/s]"
      ]
     },
     "metadata": {},
     "output_type": "display_data"
    },
    {
     "data": {
      "application/vnd.jupyter.widget-view+json": {
       "model_id": "ec5b371392654056878801cf0e4fa870",
       "version_major": 2,
       "version_minor": 0
      },
      "text/plain": [
       "  0%|          | 0/1000 [00:00<?, ?it/s]"
      ]
     },
     "metadata": {},
     "output_type": "display_data"
    },
    {
     "data": {
      "application/vnd.jupyter.widget-view+json": {
       "model_id": "d51c978a23674a89801179f11c2644d7",
       "version_major": 2,
       "version_minor": 0
      },
      "text/plain": [
       "  0%|          | 0/1000 [00:00<?, ?it/s]"
      ]
     },
     "metadata": {},
     "output_type": "display_data"
    },
    {
     "data": {
      "application/vnd.jupyter.widget-view+json": {
       "model_id": "762fd6bb33944e4c8b5e271c376abba6",
       "version_major": 2,
       "version_minor": 0
      },
      "text/plain": [
       "  0%|          | 0/1000 [00:00<?, ?it/s]"
      ]
     },
     "metadata": {},
     "output_type": "display_data"
    },
    {
     "data": {
      "application/vnd.jupyter.widget-view+json": {
       "model_id": "b1c0fc5ebe0f45cb960514bb02ce878d",
       "version_major": 2,
       "version_minor": 0
      },
      "text/plain": [
       "  0%|          | 0/1000 [00:00<?, ?it/s]"
      ]
     },
     "metadata": {},
     "output_type": "display_data"
    }
   ],
   "source": [
    "import os\n",
    "import pickle\n",
    "interpolations = [\"linear_interpolation_log\", \"linear_interpolation_log_shifted10000\", \"linear_interpolation_normal\", #SEE HOW MUCH SHIFTED IS BEST\n",
    "                  \"nearest_interpolation_log\", \"nearest_interpolation_log_shifted10000\", \"nearest_interpolation_normal\",\n",
    "                  \"inverse_distance_weighted_log\", \"inverse_distance_weighted_log_shifted10000\", \"inverse_distance_weighted_normal\", \"inverse_distance_weighted_power_0.2_normal\",\n",
    "                  \"cubic_interpolation_log\", \"cubic_interpolation_normal\",\n",
    "                  \"gaussian_kde\", \n",
    "                  \"universal_kriging_gaussian_regional_linear_drift_values_log\", \"universal_kriging_linear_regional_linear_drift_values_log\",\n",
    "                  \"ordinary_kriging_gaussian_geographic_nlags_10_values_log\", \"ordinary_kriging_linear_geographic_nlags_10_values_log\",\n",
    "                  \"universal_kriging_gaussian_regional_linear_drift_values_log_shifted10000\", \"universal_kriging_linear_regional_linear_drift_values_log_shifted10000\"\n",
    "                  \"ordinary_kriging_gaussian_geographic_nlags_10_values_log_shifted10000\", \"ordinary_kriging_linear_geographic_nlags_10_values_log_shifted10000\",\n",
    "                 ]\n",
    "\n",
    "max_drones = 1000\n",
    "step_size = 1\n",
    "for size in [1,3,5]:\n",
    "    for interpchoose in interpolations:\n",
    "        savedir = os.path.join(os.getcwd(), 'tradeoff_results', str(size)+'x' + str(size))\n",
    "        if (not os.path.exists(savedir)):\n",
    "            os.mkdir(savedir)\n",
    "        if (os.path.exists(os.path.join(savedir,interpchoose))):\n",
    "            continue\n",
    "        dataframe_name = \"./dataframes/2000-2019/\" + str(interpchoose)\n",
    "        dataframe = pd.read_pickle(dataframe_name)\n",
    "        cell[\"interpolated_value\"] = dataframe.copy()\n",
    "        \n",
    "        drone_nums = [i for i in range(0, max_drones+1, step_size)]\n",
    "        go_enh_results = go_enhanced(drone_nums, size)\n",
    "        x = drone_nums\n",
    "        y = []\n",
    "        y2 = countcovered_enhanced(go_enh_results[-1][1], size)\n",
    "        y3 = countcoveredacres_enhanced(go_enh_results[-1][1], size)\n",
    "        for j in go_enh_results:\n",
    "            y.append(j[0])\n",
    "        \n",
    "        with open(os.path.join(savedir,interpchoose), 'wb') as fp:\n",
    "            pickle.dump((drone_nums, y, y2, y3, go_enh_results), fp)"
   ]
  },
  {
   "cell_type": "code",
   "execution_count": 11,
   "id": "415cfd9a",
   "metadata": {},
   "outputs": [],
   "source": [
    "import random\n",
    "def go_rand_enhanced(coverage_numbers, size_coverage):\n",
    "#     coverage_numbers.sort()\n",
    "#     cell_size = (12)/n_cells\n",
    "#     cell[\"interpolated_value\"] = dataframe.copy()\n",
    "    \n",
    "#     ##### THIS EXISTS BTW\n",
    "#     cell[\"interpolated_value\"] = cell[\"interpolated_value\"].replace(np.nan, 0)\n",
    "\n",
    "#     all_coverages = []\n",
    "\n",
    "#     for i in fire_station_points.index:\n",
    "\n",
    "#         pos = ind[i]\n",
    "        \n",
    "#         if (np.isnan(pos)):\n",
    "#             continue\n",
    "        \n",
    "#         for diit in range(1, 10):\n",
    "#             score, di = check(pos, diit, size_coverage)\n",
    "#             all_coverages.append((score, pos, diit, i))\n",
    "\n",
    "#     all_coverages.sort()\n",
    "\n",
    "#     ret = []\n",
    "#     selected_coverages = []\n",
    "#     summed_coverage = 0\n",
    "#     mex = max(coverage_numbers)\n",
    "# #     print(all_coverages)\n",
    "#     for i in tqdm(range(mex)):\n",
    "#         if (i in coverage_numbers):\n",
    "#             ret.append((summed_coverage, selected_coverages.copy()))\n",
    "        \n",
    "#         summed_coverage += all_coverages[random_ind][0]\n",
    "# #         print(summed_coverage)\n",
    "#         selected_coverages.append(all_coverages[-1])\n",
    "#         null(all_coverages[-1][1], all_coverages[-1][2], size_coverage)\n",
    "#         all_coverages.pop(0)\n",
    "#         for coverage_num in range(max(-len(all_coverages),-2*mex), 0):\n",
    "#             score, di = check(all_coverages[coverage_num][1], all_coverages[coverage_num][2], size_coverage)\n",
    "#     #         print(all_coverages[coverage_num])\n",
    "#     #         print((score, all_coverages[coverage_num][1], di, all_coverages[coverage_num][3]))\n",
    "#     #         print()\n",
    "#             all_coverages[coverage_num] = (score, all_coverages[coverage_num][1], di, all_coverages[coverage_num][3])\n",
    "\n",
    "#         all_coverages.sort()\n",
    "#     ret.append((summed_coverage, selected_coverages.copy()))\n",
    "#     return ret\n",
    "    coverage_numbers.sort()\n",
    "    cell_size = (12)/n_cells\n",
    "    cell[\"interpolated_value\"] = dataframe.copy()\n",
    "    \n",
    "    ##### THIS EXISTS BTW\n",
    "    cell[\"interpolated_value\"] = cell[\"interpolated_value\"].replace(np.nan, 0)\n",
    "\n",
    "    all_coverages = []\n",
    "\n",
    "    for i in fire_station_points.index:\n",
    "\n",
    "        pos = ind[i]\n",
    "        \n",
    "        if (np.isnan(pos)):\n",
    "            continue\n",
    "        \n",
    "        for diit in range(1, 10):\n",
    "            score, di = check(pos, diit, size_coverage)\n",
    "            all_coverages.append((score, pos, diit, i))\n",
    "\n",
    "    ret = []\n",
    "    selected_coverages = []\n",
    "    summed_coverage = 0\n",
    "    mex = max(coverage_numbers)\n",
    "#     print(all_coverages)\n",
    "    for i in tqdm(range(mex)):\n",
    "        if (i in coverage_numbers):\n",
    "            ret.append((summed_coverage, selected_coverages.copy()))\n",
    "        random_ind = random.randint(0, len(all_coverages)-1)\n",
    "#         print(summed_coverage)\n",
    "        selected_coverages.append(all_coverages[random_ind])\n",
    "    ret.append((summed_coverage, selected_coverages.copy()))\n",
    "    return ret"
   ]
  },
  {
   "cell_type": "code",
   "execution_count": 13,
   "id": "77be1595",
   "metadata": {
    "scrolled": false
   },
   "outputs": [
    {
     "data": {
      "application/vnd.jupyter.widget-view+json": {
       "model_id": "32a6c68e5d2340ceb842f8e1f9055474",
       "version_major": 2,
       "version_minor": 0
      },
      "text/plain": [
       "  0%|          | 0/1000 [00:00<?, ?it/s]"
      ]
     },
     "metadata": {},
     "output_type": "display_data"
    },
    {
     "data": {
      "application/vnd.jupyter.widget-view+json": {
       "model_id": "3d544ad72e8247939924f2fe6537296c",
       "version_major": 2,
       "version_minor": 0
      },
      "text/plain": [
       "  0%|          | 0/1001 [00:00<?, ?it/s]"
      ]
     },
     "metadata": {},
     "output_type": "display_data"
    },
    {
     "data": {
      "application/vnd.jupyter.widget-view+json": {
       "model_id": "884ac94fdb5741d9b34a10250a2ce45e",
       "version_major": 2,
       "version_minor": 0
      },
      "text/plain": [
       "  0%|          | 0/1000 [00:00<?, ?it/s]"
      ]
     },
     "metadata": {},
     "output_type": "display_data"
    },
    {
     "data": {
      "application/vnd.jupyter.widget-view+json": {
       "model_id": "c7b389faf40b4955b4f8c36dda78c0ac",
       "version_major": 2,
       "version_minor": 0
      },
      "text/plain": [
       "  0%|          | 0/1001 [00:00<?, ?it/s]"
      ]
     },
     "metadata": {},
     "output_type": "display_data"
    },
    {
     "data": {
      "application/vnd.jupyter.widget-view+json": {
       "model_id": "d39837fd4d7b40f58bd2957ef898062e",
       "version_major": 2,
       "version_minor": 0
      },
      "text/plain": [
       "  0%|          | 0/1000 [00:00<?, ?it/s]"
      ]
     },
     "metadata": {},
     "output_type": "display_data"
    },
    {
     "data": {
      "application/vnd.jupyter.widget-view+json": {
       "model_id": "a233b9c4822d41caaf1811fe0286ae37",
       "version_major": 2,
       "version_minor": 0
      },
      "text/plain": [
       "  0%|          | 0/1001 [00:00<?, ?it/s]"
      ]
     },
     "metadata": {},
     "output_type": "display_data"
    },
    {
     "data": {
      "application/vnd.jupyter.widget-view+json": {
       "model_id": "e7ecf2e9ee7e43fbb20fd1a7727cf414",
       "version_major": 2,
       "version_minor": 0
      },
      "text/plain": [
       "  0%|          | 0/1000 [00:00<?, ?it/s]"
      ]
     },
     "metadata": {},
     "output_type": "display_data"
    },
    {
     "data": {
      "application/vnd.jupyter.widget-view+json": {
       "model_id": "6368f1c831c5446aa038006b53bec8d5",
       "version_major": 2,
       "version_minor": 0
      },
      "text/plain": [
       "  0%|          | 0/1001 [00:00<?, ?it/s]"
      ]
     },
     "metadata": {},
     "output_type": "display_data"
    },
    {
     "data": {
      "application/vnd.jupyter.widget-view+json": {
       "model_id": "6a6efe7fad7740eb8eb7afbfabcfd61f",
       "version_major": 2,
       "version_minor": 0
      },
      "text/plain": [
       "  0%|          | 0/1000 [00:00<?, ?it/s]"
      ]
     },
     "metadata": {},
     "output_type": "display_data"
    },
    {
     "data": {
      "application/vnd.jupyter.widget-view+json": {
       "model_id": "48cdfd5a959e49089a2a202515c463a5",
       "version_major": 2,
       "version_minor": 0
      },
      "text/plain": [
       "  0%|          | 0/1001 [00:00<?, ?it/s]"
      ]
     },
     "metadata": {},
     "output_type": "display_data"
    },
    {
     "data": {
      "application/vnd.jupyter.widget-view+json": {
       "model_id": "f033ad16faa141d2b6391c471078a4d5",
       "version_major": 2,
       "version_minor": 0
      },
      "text/plain": [
       "  0%|          | 0/1000 [00:00<?, ?it/s]"
      ]
     },
     "metadata": {},
     "output_type": "display_data"
    },
    {
     "data": {
      "application/vnd.jupyter.widget-view+json": {
       "model_id": "80195b085f9b4b76952dd5b521e316f3",
       "version_major": 2,
       "version_minor": 0
      },
      "text/plain": [
       "  0%|          | 0/1001 [00:00<?, ?it/s]"
      ]
     },
     "metadata": {},
     "output_type": "display_data"
    },
    {
     "data": {
      "application/vnd.jupyter.widget-view+json": {
       "model_id": "8f1a307eb88c498687cbd6fe51ec443d",
       "version_major": 2,
       "version_minor": 0
      },
      "text/plain": [
       "  0%|          | 0/1000 [00:00<?, ?it/s]"
      ]
     },
     "metadata": {},
     "output_type": "display_data"
    },
    {
     "data": {
      "application/vnd.jupyter.widget-view+json": {
       "model_id": "291912c460b349eb98c44b1c304a56e2",
       "version_major": 2,
       "version_minor": 0
      },
      "text/plain": [
       "  0%|          | 0/1001 [00:00<?, ?it/s]"
      ]
     },
     "metadata": {},
     "output_type": "display_data"
    },
    {
     "data": {
      "application/vnd.jupyter.widget-view+json": {
       "model_id": "5c670b24fe084502a467565f87c23531",
       "version_major": 2,
       "version_minor": 0
      },
      "text/plain": [
       "  0%|          | 0/1000 [00:00<?, ?it/s]"
      ]
     },
     "metadata": {},
     "output_type": "display_data"
    },
    {
     "data": {
      "application/vnd.jupyter.widget-view+json": {
       "model_id": "17473a43c51c4e148dd8d86aa79cfa56",
       "version_major": 2,
       "version_minor": 0
      },
      "text/plain": [
       "  0%|          | 0/1001 [00:00<?, ?it/s]"
      ]
     },
     "metadata": {},
     "output_type": "display_data"
    },
    {
     "data": {
      "application/vnd.jupyter.widget-view+json": {
       "model_id": "531803d4c01443a2924e8412975f0ecf",
       "version_major": 2,
       "version_minor": 0
      },
      "text/plain": [
       "  0%|          | 0/1000 [00:00<?, ?it/s]"
      ]
     },
     "metadata": {},
     "output_type": "display_data"
    },
    {
     "data": {
      "application/vnd.jupyter.widget-view+json": {
       "model_id": "8cb4c9fd9339464cb9612766834d8f3e",
       "version_major": 2,
       "version_minor": 0
      },
      "text/plain": [
       "  0%|          | 0/1001 [00:00<?, ?it/s]"
      ]
     },
     "metadata": {},
     "output_type": "display_data"
    },
    {
     "data": {
      "application/vnd.jupyter.widget-view+json": {
       "model_id": "66f3fbaa54a841cd806cc9cfa58e7418",
       "version_major": 2,
       "version_minor": 0
      },
      "text/plain": [
       "  0%|          | 0/1000 [00:00<?, ?it/s]"
      ]
     },
     "metadata": {},
     "output_type": "display_data"
    },
    {
     "data": {
      "application/vnd.jupyter.widget-view+json": {
       "model_id": "bdfaecd7858047d2b4310ed77be6a344",
       "version_major": 2,
       "version_minor": 0
      },
      "text/plain": [
       "  0%|          | 0/1001 [00:00<?, ?it/s]"
      ]
     },
     "metadata": {},
     "output_type": "display_data"
    },
    {
     "data": {
      "application/vnd.jupyter.widget-view+json": {
       "model_id": "1cae215f1a1c46dab103c65752648b97",
       "version_major": 2,
       "version_minor": 0
      },
      "text/plain": [
       "  0%|          | 0/1000 [00:00<?, ?it/s]"
      ]
     },
     "metadata": {},
     "output_type": "display_data"
    },
    {
     "data": {
      "application/vnd.jupyter.widget-view+json": {
       "model_id": "5c8c1f7183ec4f1b866db1088907cc56",
       "version_major": 2,
       "version_minor": 0
      },
      "text/plain": [
       "  0%|          | 0/1001 [00:00<?, ?it/s]"
      ]
     },
     "metadata": {},
     "output_type": "display_data"
    },
    {
     "data": {
      "application/vnd.jupyter.widget-view+json": {
       "model_id": "f94a3917f370473196c1937ff6390f81",
       "version_major": 2,
       "version_minor": 0
      },
      "text/plain": [
       "  0%|          | 0/1000 [00:00<?, ?it/s]"
      ]
     },
     "metadata": {},
     "output_type": "display_data"
    },
    {
     "data": {
      "application/vnd.jupyter.widget-view+json": {
       "model_id": "86775a9aa23c4d1ab4d790b9e87681a8",
       "version_major": 2,
       "version_minor": 0
      },
      "text/plain": [
       "  0%|          | 0/1001 [00:00<?, ?it/s]"
      ]
     },
     "metadata": {},
     "output_type": "display_data"
    },
    {
     "data": {
      "application/vnd.jupyter.widget-view+json": {
       "model_id": "6f04d2ab64a141688c4dfbb740efa886",
       "version_major": 2,
       "version_minor": 0
      },
      "text/plain": [
       "  0%|          | 0/1000 [00:00<?, ?it/s]"
      ]
     },
     "metadata": {},
     "output_type": "display_data"
    },
    {
     "data": {
      "application/vnd.jupyter.widget-view+json": {
       "model_id": "3fec3a71af3f4f66bce6e256d579065e",
       "version_major": 2,
       "version_minor": 0
      },
      "text/plain": [
       "  0%|          | 0/1001 [00:00<?, ?it/s]"
      ]
     },
     "metadata": {},
     "output_type": "display_data"
    },
    {
     "data": {
      "application/vnd.jupyter.widget-view+json": {
       "model_id": "31c110ee32304c13af80d45ef0fb4d73",
       "version_major": 2,
       "version_minor": 0
      },
      "text/plain": [
       "  0%|          | 0/1000 [00:00<?, ?it/s]"
      ]
     },
     "metadata": {},
     "output_type": "display_data"
    },
    {
     "data": {
      "application/vnd.jupyter.widget-view+json": {
       "model_id": "ef0204d29671417ca9419618b467c3db",
       "version_major": 2,
       "version_minor": 0
      },
      "text/plain": [
       "  0%|          | 0/1001 [00:00<?, ?it/s]"
      ]
     },
     "metadata": {},
     "output_type": "display_data"
    },
    {
     "data": {
      "application/vnd.jupyter.widget-view+json": {
       "model_id": "b6836d6438864e758d8befb276de31a3",
       "version_major": 2,
       "version_minor": 0
      },
      "text/plain": [
       "  0%|          | 0/1000 [00:00<?, ?it/s]"
      ]
     },
     "metadata": {},
     "output_type": "display_data"
    },
    {
     "data": {
      "application/vnd.jupyter.widget-view+json": {
       "model_id": "00156c365011489e9a7b923d59c1de07",
       "version_major": 2,
       "version_minor": 0
      },
      "text/plain": [
       "  0%|          | 0/1001 [00:00<?, ?it/s]"
      ]
     },
     "metadata": {},
     "output_type": "display_data"
    },
    {
     "data": {
      "application/vnd.jupyter.widget-view+json": {
       "model_id": "1b9c37012bd44901924ebb7e03c494d8",
       "version_major": 2,
       "version_minor": 0
      },
      "text/plain": [
       "  0%|          | 0/1000 [00:00<?, ?it/s]"
      ]
     },
     "metadata": {},
     "output_type": "display_data"
    },
    {
     "data": {
      "application/vnd.jupyter.widget-view+json": {
       "model_id": "4ff0311b55284a64ac5abe5a3cfe0adb",
       "version_major": 2,
       "version_minor": 0
      },
      "text/plain": [
       "  0%|          | 0/1001 [00:00<?, ?it/s]"
      ]
     },
     "metadata": {},
     "output_type": "display_data"
    },
    {
     "data": {
      "application/vnd.jupyter.widget-view+json": {
       "model_id": "02cb64d2e95f4443b6aebe60a2d1f151",
       "version_major": 2,
       "version_minor": 0
      },
      "text/plain": [
       "  0%|          | 0/1000 [00:00<?, ?it/s]"
      ]
     },
     "metadata": {},
     "output_type": "display_data"
    },
    {
     "data": {
      "application/vnd.jupyter.widget-view+json": {
       "model_id": "cd5798e078af42078a0f56b6df12be19",
       "version_major": 2,
       "version_minor": 0
      },
      "text/plain": [
       "  0%|          | 0/1001 [00:00<?, ?it/s]"
      ]
     },
     "metadata": {},
     "output_type": "display_data"
    },
    {
     "data": {
      "application/vnd.jupyter.widget-view+json": {
       "model_id": "eeb125ae71bf4c46bbc7a2bf32ccb030",
       "version_major": 2,
       "version_minor": 0
      },
      "text/plain": [
       "  0%|          | 0/1000 [00:00<?, ?it/s]"
      ]
     },
     "metadata": {},
     "output_type": "display_data"
    },
    {
     "data": {
      "application/vnd.jupyter.widget-view+json": {
       "model_id": "d3eb0b7faa2f4e0bb910a19d7d77fb26",
       "version_major": 2,
       "version_minor": 0
      },
      "text/plain": [
       "  0%|          | 0/1001 [00:00<?, ?it/s]"
      ]
     },
     "metadata": {},
     "output_type": "display_data"
    },
    {
     "data": {
      "application/vnd.jupyter.widget-view+json": {
       "model_id": "8089c04fca054d268eb0a4a1fef8c184",
       "version_major": 2,
       "version_minor": 0
      },
      "text/plain": [
       "  0%|          | 0/1000 [00:00<?, ?it/s]"
      ]
     },
     "metadata": {},
     "output_type": "display_data"
    },
    {
     "data": {
      "application/vnd.jupyter.widget-view+json": {
       "model_id": "7f7af53e9274477e93debed95b1245d7",
       "version_major": 2,
       "version_minor": 0
      },
      "text/plain": [
       "  0%|          | 0/1001 [00:00<?, ?it/s]"
      ]
     },
     "metadata": {},
     "output_type": "display_data"
    },
    {
     "data": {
      "application/vnd.jupyter.widget-view+json": {
       "model_id": "d9c2b5b7141243e391cc27cee6f8dbdd",
       "version_major": 2,
       "version_minor": 0
      },
      "text/plain": [
       "  0%|          | 0/1000 [00:00<?, ?it/s]"
      ]
     },
     "metadata": {},
     "output_type": "display_data"
    },
    {
     "data": {
      "application/vnd.jupyter.widget-view+json": {
       "model_id": "f4fd96f8142c4a708a0b57f2ba688bc1",
       "version_major": 2,
       "version_minor": 0
      },
      "text/plain": [
       "  0%|          | 0/1001 [00:00<?, ?it/s]"
      ]
     },
     "metadata": {},
     "output_type": "display_data"
    },
    {
     "data": {
      "application/vnd.jupyter.widget-view+json": {
       "model_id": "377217d8c04e4a5aba149efd54cee110",
       "version_major": 2,
       "version_minor": 0
      },
      "text/plain": [
       "  0%|          | 0/1000 [00:00<?, ?it/s]"
      ]
     },
     "metadata": {},
     "output_type": "display_data"
    },
    {
     "data": {
      "application/vnd.jupyter.widget-view+json": {
       "model_id": "d9e58038cf9b4365b65ecbaa16982ccf",
       "version_major": 2,
       "version_minor": 0
      },
      "text/plain": [
       "  0%|          | 0/1001 [00:00<?, ?it/s]"
      ]
     },
     "metadata": {},
     "output_type": "display_data"
    },
    {
     "data": {
      "application/vnd.jupyter.widget-view+json": {
       "model_id": "a41a69137f2b4d45a73d317f8bb62e13",
       "version_major": 2,
       "version_minor": 0
      },
      "text/plain": [
       "  0%|          | 0/1000 [00:00<?, ?it/s]"
      ]
     },
     "metadata": {},
     "output_type": "display_data"
    },
    {
     "data": {
      "application/vnd.jupyter.widget-view+json": {
       "model_id": "8e9dc3a0964346d68e1b6343eaa973e5",
       "version_major": 2,
       "version_minor": 0
      },
      "text/plain": [
       "  0%|          | 0/1001 [00:00<?, ?it/s]"
      ]
     },
     "metadata": {},
     "output_type": "display_data"
    },
    {
     "data": {
      "application/vnd.jupyter.widget-view+json": {
       "model_id": "8f848f0dd8da4149af84c7c533c9d2ac",
       "version_major": 2,
       "version_minor": 0
      },
      "text/plain": [
       "  0%|          | 0/1000 [00:00<?, ?it/s]"
      ]
     },
     "metadata": {},
     "output_type": "display_data"
    },
    {
     "data": {
      "application/vnd.jupyter.widget-view+json": {
       "model_id": "649dd4ddc06948fdb676cad1d1554074",
       "version_major": 2,
       "version_minor": 0
      },
      "text/plain": [
       "  0%|          | 0/1001 [00:00<?, ?it/s]"
      ]
     },
     "metadata": {},
     "output_type": "display_data"
    },
    {
     "data": {
      "application/vnd.jupyter.widget-view+json": {
       "model_id": "624c439791b746b98f2ad99bdce0cb37",
       "version_major": 2,
       "version_minor": 0
      },
      "text/plain": [
       "  0%|          | 0/1000 [00:00<?, ?it/s]"
      ]
     },
     "metadata": {},
     "output_type": "display_data"
    },
    {
     "data": {
      "application/vnd.jupyter.widget-view+json": {
       "model_id": "33c59a500a8e4665b3925e9a06e16e9d",
       "version_major": 2,
       "version_minor": 0
      },
      "text/plain": [
       "  0%|          | 0/1001 [00:00<?, ?it/s]"
      ]
     },
     "metadata": {},
     "output_type": "display_data"
    },
    {
     "data": {
      "application/vnd.jupyter.widget-view+json": {
       "model_id": "8c8aead599aa4dd9934a5700cff48f49",
       "version_major": 2,
       "version_minor": 0
      },
      "text/plain": [
       "  0%|          | 0/1000 [00:00<?, ?it/s]"
      ]
     },
     "metadata": {},
     "output_type": "display_data"
    },
    {
     "data": {
      "application/vnd.jupyter.widget-view+json": {
       "model_id": "896eacc3510e4f90be4176b39c7ad640",
       "version_major": 2,
       "version_minor": 0
      },
      "text/plain": [
       "  0%|          | 0/1001 [00:00<?, ?it/s]"
      ]
     },
     "metadata": {},
     "output_type": "display_data"
    },
    {
     "data": {
      "application/vnd.jupyter.widget-view+json": {
       "model_id": "a31254dc77784643b5745b8de921c866",
       "version_major": 2,
       "version_minor": 0
      },
      "text/plain": [
       "  0%|          | 0/1000 [00:00<?, ?it/s]"
      ]
     },
     "metadata": {},
     "output_type": "display_data"
    },
    {
     "data": {
      "application/vnd.jupyter.widget-view+json": {
       "model_id": "e09b81fda536468c85e7667aba4789ed",
       "version_major": 2,
       "version_minor": 0
      },
      "text/plain": [
       "  0%|          | 0/1001 [00:00<?, ?it/s]"
      ]
     },
     "metadata": {},
     "output_type": "display_data"
    },
    {
     "data": {
      "application/vnd.jupyter.widget-view+json": {
       "model_id": "19d67a9c172543f1bfa2942b69a917ce",
       "version_major": 2,
       "version_minor": 0
      },
      "text/plain": [
       "  0%|          | 0/1000 [00:00<?, ?it/s]"
      ]
     },
     "metadata": {},
     "output_type": "display_data"
    },
    {
     "data": {
      "application/vnd.jupyter.widget-view+json": {
       "model_id": "5578125efea848f7926eadc8600465a1",
       "version_major": 2,
       "version_minor": 0
      },
      "text/plain": [
       "  0%|          | 0/1001 [00:00<?, ?it/s]"
      ]
     },
     "metadata": {},
     "output_type": "display_data"
    },
    {
     "data": {
      "application/vnd.jupyter.widget-view+json": {
       "model_id": "2249ba51e01b485b9c65b3605a774f0e",
       "version_major": 2,
       "version_minor": 0
      },
      "text/plain": [
       "  0%|          | 0/1000 [00:00<?, ?it/s]"
      ]
     },
     "metadata": {},
     "output_type": "display_data"
    },
    {
     "data": {
      "application/vnd.jupyter.widget-view+json": {
       "model_id": "5b13ce1893fc429aa049a32e3d09140c",
       "version_major": 2,
       "version_minor": 0
      },
      "text/plain": [
       "  0%|          | 0/1001 [00:00<?, ?it/s]"
      ]
     },
     "metadata": {},
     "output_type": "display_data"
    },
    {
     "data": {
      "application/vnd.jupyter.widget-view+json": {
       "model_id": "101c2e63f980437897d95ad1960e5779",
       "version_major": 2,
       "version_minor": 0
      },
      "text/plain": [
       "  0%|          | 0/1000 [00:00<?, ?it/s]"
      ]
     },
     "metadata": {},
     "output_type": "display_data"
    },
    {
     "data": {
      "application/vnd.jupyter.widget-view+json": {
       "model_id": "ce5483df0b6448f3824386df4ce69c73",
       "version_major": 2,
       "version_minor": 0
      },
      "text/plain": [
       "  0%|          | 0/1001 [00:00<?, ?it/s]"
      ]
     },
     "metadata": {},
     "output_type": "display_data"
    },
    {
     "data": {
      "application/vnd.jupyter.widget-view+json": {
       "model_id": "080a6e5e2fa44473bd10aca4a12206b4",
       "version_major": 2,
       "version_minor": 0
      },
      "text/plain": [
       "  0%|          | 0/1000 [00:00<?, ?it/s]"
      ]
     },
     "metadata": {},
     "output_type": "display_data"
    },
    {
     "data": {
      "application/vnd.jupyter.widget-view+json": {
       "model_id": "5a29b735a48b42d0b36bca551059b1a7",
       "version_major": 2,
       "version_minor": 0
      },
      "text/plain": [
       "  0%|          | 0/1001 [00:00<?, ?it/s]"
      ]
     },
     "metadata": {},
     "output_type": "display_data"
    }
   ],
   "source": [
    "import os\n",
    "import pickle\n",
    "max_drones = 1000\n",
    "step_size = 1\n",
    "for size in [1,3,5]:\n",
    "    for randrun in range(10):\n",
    "        savedir = os.path.join(os.getcwd(), 'tradeoff_results', str(size)+'x' + str(size))\n",
    "        if (not os.path.exists(savedir)):\n",
    "            os.mkdir(savedir)\n",
    "        \n",
    "        drone_nums = [i for i in range(0, max_drones+1, step_size)]\n",
    "        go_enh_results = go_rand_enhanced(drone_nums, size)\n",
    "        x = drone_nums\n",
    "        y = []\n",
    "        y2 = countcovered_enhanced(go_enh_results[-1][1], size)\n",
    "        y3 = countcoveredacres_enhanced(go_enh_results[-1][1], size)\n",
    "        for j in tqdm(go_enh_results):\n",
    "            y.append(j[0])\n",
    "        \n",
    "        with open(os.path.join(savedir,\"rand\"+str(randrun)), 'wb') as fp:\n",
    "            pickle.dump((drone_nums, y, y2, y3, go_enh_results), fp)"
   ]
  },
  {
   "cell_type": "code",
   "execution_count": 14,
   "id": "0c13a951",
   "metadata": {},
   "outputs": [
    {
     "data": {
      "text/plain": [
       "1451"
      ]
     },
     "execution_count": 14,
     "metadata": {},
     "output_type": "execute_result"
    }
   ],
   "source": [
    "len(fires)"
   ]
  },
  {
   "cell_type": "code",
   "execution_count": 15,
   "id": "f3e148b3",
   "metadata": {},
   "outputs": [
    {
     "data": {
      "text/plain": [
       "473360.980263412"
      ]
     },
     "execution_count": 15,
     "metadata": {},
     "output_type": "execute_result"
    }
   ],
   "source": [
    "np.sum(fires[\"GIS_ACRES\"])"
   ]
  }
 ],
 "metadata": {
  "kernelspec": {
   "display_name": "Python 3 (ipykernel)",
   "language": "python",
   "name": "python3"
  },
  "language_info": {
   "codemirror_mode": {
    "name": "ipython",
    "version": 3
   },
   "file_extension": ".py",
   "mimetype": "text/x-python",
   "name": "python",
   "nbconvert_exporter": "python",
   "pygments_lexer": "ipython3",
   "version": "3.11.3"
  }
 },
 "nbformat": 4,
 "nbformat_minor": 5
}
