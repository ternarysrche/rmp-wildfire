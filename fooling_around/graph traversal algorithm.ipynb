{
 "cells": [
  {
   "cell_type": "code",
   "execution_count": 19,
   "id": "98e6b9b8",
   "metadata": {},
   "outputs": [],
   "source": [
    "import numpy as np\n",
    "from tqdm.notebook import tqdm\n",
    "import matplotlib.pyplot as plt\n",
    "from IPython.display import display, clear_output"
   ]
  },
  {
   "cell_type": "markdown",
   "id": "0ef331e4",
   "metadata": {},
   "source": [
    "# Orienteering on 2D grid"
   ]
  },
  {
   "cell_type": "code",
   "execution_count": 90,
   "id": "e6ed0c20",
   "metadata": {},
   "outputs": [],
   "source": [
    "n = 20\n"
   ]
  },
  {
   "cell_type": "code",
   "execution_count": 83,
   "id": "f4455e21",
   "metadata": {},
   "outputs": [
    {
     "data": {
      "text/plain": [
       "array([[68, 29, 40, 28, 69, 56,  0, 80,  3, 70, 44, 50, 17, 64, 28, 76,\n",
       "        31, 63, 72, 31],\n",
       "       [59, 32, 20, 22, 95, 44, 56,  4, 92, 67, 73, 63, 81, 56, 70, 11,\n",
       "        23, 30, 14, 34],\n",
       "       [39, 22, 51, 57, 55, 74, 80, 93, 40, 55, 46, 43, 67,  6, 68, 66,\n",
       "        48, 32, 37,  5],\n",
       "       [41, 83, 61, 94,  2, 74, 15, 64,  3, 84, 74, 17, 76, 61, 17, 80,\n",
       "        69, 81, 75,  6],\n",
       "       [14, 66, 86, 33, 93, 95, 24, 51, 10, 61, 58, 40, 55, 50,  3, 28,\n",
       "        99, 69, 93,  4],\n",
       "       [83, 64,  0, 73, 25,  6, 88, 53, 67, 50, 94, 57, 37, 96, 51, 72,\n",
       "        90,  1, 25, 75],\n",
       "       [52, 24, 75, 49,  8, 49, 10,  4, 41, 63, 91, 97, 66, 77, 65, 12,\n",
       "         5, 18, 28, 23],\n",
       "       [88,  9, 31, 91, 13, 30, 95, 84, 35, 29, 43, 98, 75,  0, 11, 18,\n",
       "        80, 55, 25, 85],\n",
       "       [76, 43, 88, 80, 48, 95, 59, 18, 86,  7, 20, 42, 76,  6, 80, 60,\n",
       "        63, 73, 56, 45],\n",
       "       [93, 39, 69,  9, 26, 64, 62, 25, 87, 81, 78, 12, 51, 33, 19, 78,\n",
       "        10, 56, 35, 95],\n",
       "       [50,  6, 44, 51, 26,  5, 77, 99, 64, 77, 35, 24, 82, 11, 34, 58,\n",
       "        46, 21, 46, 89],\n",
       "       [36, 83, 57,  9, 43, 84, 30, 17, 65, 39, 85, 97, 15, 10, 20, 61,\n",
       "        27, 73, 65, 88],\n",
       "       [82, 66, 41, 13, 23, 16, 80,  7, 28, 15, 48, 45, 84, 78, 18, 91,\n",
       "        14, 35, 88, 43],\n",
       "       [72, 84, 77, 62, 72, 88, 98, 46, 58, 23, 69,  4, 89, 88, 62, 91,\n",
       "        64, 18, 87,  9],\n",
       "       [11, 77, 93, 88, 15, 57, 79, 84, 29, 22, 34, 51, 20, 96, 34, 78,\n",
       "        57,  5, 71, 49],\n",
       "       [99, 52, 21, 62, 93, 43, 91, 51, 11, 27, 17,  3, 87, 80,  9, 85,\n",
       "        69, 42, 48, 42],\n",
       "       [83, 33, 91, 87, 71, 55, 20, 69, 90, 93, 44, 66, 78, 34, 37, 71,\n",
       "        24, 90, 65, 13],\n",
       "       [59, 27, 31, 35, 73, 26, 17, 60, 72, 82, 76, 63, 44, 87, 14, 20,\n",
       "        13, 33, 34, 90],\n",
       "       [46,  6,  1, 18, 40, 39,  1, 91, 38, 58, 93, 48,  0, 81, 97, 30,\n",
       "        88, 38, 94, 57],\n",
       "       [30, 44, 60, 85, 66, 21, 43, 79, 98, 37, 67, 83, 97, 85, 99,  4,\n",
       "        16, 61, 25, 71]])"
      ]
     },
     "execution_count": 83,
     "metadata": {},
     "output_type": "execute_result"
    }
   ],
   "source": [
    "\n",
    "grid = np.random.randint(100, size=(n,n))\n",
    "\n",
    "grid"
   ]
  },
  {
   "cell_type": "code",
   "execution_count": 93,
   "id": "5c600df7",
   "metadata": {},
   "outputs": [
    {
     "name": "stdout",
     "output_type": "stream",
     "text": [
      "68 29 40 28 69 56 0 80 3 70 44 50 17 64 28 76 31 63 72 31 \n",
      "59 32 20 22 95 44 56 4 92 67 73 63 81 56 70 11 23 30 14 34 \n",
      "39 22 51 57 55 74 80 93 40 55 46 43 67 6 68 66 48 32 37 5 \n",
      "41 83 61 94 2 74 15 64 3 84 74 17 76 61 17 80 69 81 75 6 \n",
      "14 66 86 33 93 95 24 51 10 61 58 40 55 50 3 28 99 69 93 4 \n",
      "83 64 0 73 25 6 88 53 67 50 94 57 37 96 51 72 90 1 25 75 \n",
      "52 24 75 49 8 49 10 4 41 63 91 97 66 77 65 12 5 18 28 23 \n",
      "88 9 31 91 13 30 95 84 35 29 43 98 75 0 11 18 80 55 25 85 \n",
      "76 43 88 80 48 95 59 18 86 7 20 42 76 6 80 60 63 73 56 45 \n",
      "93 39 69 9 26 64 62 25 87 81 78 12 51 33 19 78 10 56 35 95 \n",
      "50 6 44 51 26 5 77 99 64 77 35 24 82 11 34 58 46 21 46 89 \n",
      "36 83 57 9 43 84 30 17 65 39 85 97 15 10 20 61 27 73 65 88 \n",
      "82 66 41 13 23 16 80 7 28 15 48 45 84 78 18 91 14 35 88 43 \n",
      "72 84 77 62 72 88 98 46 58 23 69 4 89 88 62 91 64 18 87 9 \n",
      "11 77 93 88 15 57 79 84 29 22 34 51 20 96 34 78 57 5 71 49 \n",
      "99 52 21 62 93 43 91 51 11 27 17 3 87 80 9 85 69 42 48 42 \n",
      "83 33 91 87 71 55 20 69 90 93 44 66 78 34 37 71 24 90 65 13 \n",
      "59 27 31 35 73 26 17 60 72 82 76 63 44 87 14 20 13 33 34 90 \n",
      "46 6 1 18 40 39 1 91 38 58 93 48 0 81 97 30 88 38 94 57 \n",
      "30 44 60 85 66 21 43 79 98 37 67 83 97 85 99 4 16 61 25 71 \n"
     ]
    }
   ],
   "source": [
    "for i in grid:\n",
    "    for j in i:\n",
    "        print(j, end = \" \")\n",
    "    print()"
   ]
  },
  {
   "cell_type": "markdown",
   "id": "dfa187d1",
   "metadata": {},
   "source": [
    "### Brute Force"
   ]
  },
  {
   "cell_type": "code",
   "execution_count": 49,
   "id": "c4c01c5c",
   "metadata": {},
   "outputs": [
    {
     "data": {
      "application/vnd.jupyter.widget-view+json": {
       "model_id": "29af57cd68274643ba8d182952549aaf",
       "version_major": 2,
       "version_minor": 0
      },
      "text/plain": [
       "  0%|          | 0/10 [00:00<?, ?it/s]"
      ]
     },
     "metadata": {},
     "output_type": "display_data"
    },
    {
     "name": "stdout",
     "output_type": "stream",
     "text": [
      "790\n",
      "[(1, 6), (1, 7), (1, 8), (1, 9), (2, 9), (2, 8), (2, 7), (3, 7), (3, 6), (2, 6), (1, 6)]\n"
     ]
    }
   ],
   "source": [
    "# TIME COMPLEXITY: 4^length * n^2 + n^3\n",
    "from tqdm.notebook import tqdm\n",
    "dirx = [-1, 0, 1, 0]\n",
    "diry = [0, 1, 0, -1]\n",
    "length = 10\n",
    "validPaths = []\n",
    "def dfs(x, y, curPath):\n",
    "    global validPaths, dirx, diry, length\n",
    "    curPath.append((x,y))\n",
    "    if (len(curPath) == length+1):\n",
    "        validPaths.append(curPath.copy())\n",
    "        curPath.pop(-1)\n",
    "        return\n",
    "    for ind in range(4):\n",
    "        newx = dirx[ind] + x\n",
    "        newy = diry[ind] + y\n",
    "        if (newx >= n or newy >= n or newx < 0 or newy < 0):\n",
    "            continue\n",
    "        dfs(newx,newy,curPath)\n",
    "    curPath.pop(-1)\n",
    "max_score = 0\n",
    "max_path = []\n",
    "for i in tqdm(range(n)):\n",
    "    for j in range(n):\n",
    "        validPaths = []\n",
    "        dfs(i,j,[])\n",
    "        for path in validPaths:\n",
    "            score = 0\n",
    "            if path[0] == path[-1]:\n",
    "                spath = set(path)\n",
    "                for point in spath:\n",
    "                    score += grid[point[0]][point[1]]\n",
    "            if (max_score < score):\n",
    "                max_score = score\n",
    "                max_path = path.copy()\n",
    "print(max_score)\n",
    "print(max_path)"
   ]
  },
  {
   "cell_type": "markdown",
   "id": "17ff2ea7",
   "metadata": {},
   "source": [
    "### Modified Brute Force"
   ]
  },
  {
   "cell_type": "code",
   "execution_count": 87,
   "id": "83fbbff9",
   "metadata": {},
   "outputs": [
    {
     "data": {
      "application/vnd.jupyter.widget-view+json": {
       "model_id": "2844f3b8254e4befae0b826240f31ae7",
       "version_major": 2,
       "version_minor": 0
      },
      "text/plain": [
       "  0%|          | 0/20 [00:00<?, ?it/s]"
      ]
     },
     "metadata": {},
     "output_type": "display_data"
    },
    {
     "name": "stdout",
     "output_type": "stream",
     "text": [
      "972\n",
      "[(17, 10), (17, 11), (17, 12), (17, 13), (18, 13), (18, 14), (19, 14), (19, 13), (19, 12), (19, 11), (19, 10), (18, 10), (17, 10)]\n"
     ]
    }
   ],
   "source": [
    "# TIME COMPLEXITY: < n^4 * (4^(length))\n",
    "from tqdm.notebook import tqdm\n",
    "import numpy as np\n",
    "dirx = [-1, 0, 1, 0]\n",
    "diry = [0, 1, 0, -1]\n",
    "length = 12\n",
    "validPaths = []\n",
    "def dfs(x, y, goalx, goaly, curPath):\n",
    "    global validPaths, dirx, diry, length\n",
    "    curPath.append((x,y))\n",
    "    if (len(curPath)+abs(goalx-x)+abs(goaly-y) > length/2+1):\n",
    "        curPath.pop(-1)\n",
    "        return\n",
    "    if (len(curPath) == length/2+1):\n",
    "        validPaths.append(curPath.copy())\n",
    "        curPath.pop(-1)\n",
    "        return\n",
    "    for ind in range(4):\n",
    "        newx = dirx[ind] + x\n",
    "        newy = diry[ind] + y\n",
    "        if (newx >= n or newy >= n or newx < 0 or newy < 0):\n",
    "            continue\n",
    "        dfs(newx,newy,goalx,goaly,curPath)\n",
    "    curPath.pop(-1)\n",
    "max_score = 0\n",
    "max_path = []\n",
    "for i in tqdm(range(n)):\n",
    "    for j in range(n):\n",
    "        for k in range(n):\n",
    "            for l in range(n):\n",
    "                validPaths = []\n",
    "                dfs(i,j,k,l,[])\n",
    "                for firstPath in range(len(validPaths)):\n",
    "                    for secondPath in range(len(validPaths)):\n",
    "                        score = 0\n",
    "                        spath = set(validPaths[firstPath] + validPaths[secondPath])\n",
    "                        for point in spath:\n",
    "                            score += grid[point[0]][point[1]]\n",
    "                        if (max_score < score):\n",
    "                            max_score = score\n",
    "                            max_path = validPaths[firstPath][:-1] + validPaths[secondPath][::-1]\n",
    "print(max_score)\n",
    "print(max_path)"
   ]
  },
  {
   "cell_type": "code",
   "execution_count": 92,
   "id": "7a341349",
   "metadata": {},
   "outputs": [
    {
     "data": {
      "application/vnd.jupyter.widget-view+json": {
       "model_id": "f80d5326b5434e0184d06854ea72a8bd",
       "version_major": 2,
       "version_minor": 0
      },
      "text/plain": [
       "  0%|          | 0/20 [00:00<?, ?it/s]"
      ]
     },
     "metadata": {},
     "output_type": "display_data"
    },
    {
     "name": "stdout",
     "output_type": "stream",
     "text": [
      "1116\n",
      "[(16, 11), (16, 12), (17, 12), (17, 13), (18, 13), (18, 14), (19, 14), (19, 13), (19, 12), (19, 11), (19, 10), (18, 10), (17, 10), (17, 11), (16, 11)]\n"
     ]
    }
   ],
   "source": [
    "# TIME COMPLEXITY: < n^4 * (4^(length))\n",
    "from tqdm.notebook import tqdm\n",
    "import numpy as np\n",
    "dirx = [-1, 0, 1, 0]\n",
    "diry = [0, 1, 0, -1]\n",
    "length = 14\n",
    "validPaths = []\n",
    "def dfs(x, y, goalx, goaly, curPath):\n",
    "    global validPaths, dirx, diry, length\n",
    "    curPath.append((x,y))\n",
    "    if (len(curPath)+abs(goalx-x)+abs(goaly-y) > length/2+1):\n",
    "        curPath.pop(-1)\n",
    "        return\n",
    "    if (len(curPath) == length/2+1):\n",
    "        validPaths.append(curPath.copy())\n",
    "        curPath.pop(-1)\n",
    "        return\n",
    "    for ind in range(4):\n",
    "        newx = dirx[ind] + x\n",
    "        newy = diry[ind] + y\n",
    "        if (newx >= n or newy >= n or newx < 0 or newy < 0):\n",
    "            continue\n",
    "        dfs(newx,newy,goalx,goaly,curPath)\n",
    "    curPath.pop(-1)\n",
    "max_score = 0\n",
    "max_path = []\n",
    "for i in tqdm(range(n)):\n",
    "    for j in range(n):\n",
    "        for k in range(n):\n",
    "            for l in range(n):\n",
    "                validPaths = []\n",
    "                dfs(i,j,k,l,[])\n",
    "                for firstPath in range(len(validPaths)):\n",
    "                    for secondPath in range(len(validPaths)):\n",
    "                        score = 0\n",
    "                        spath = set(validPaths[firstPath] + validPaths[secondPath])\n",
    "                        for point in spath:\n",
    "                            score += grid[point[0]][point[1]]\n",
    "                        if (max_score < score):\n",
    "                            max_score = score\n",
    "                            max_path = validPaths[firstPath][:-1] + validPaths[secondPath][::-1]\n",
    "print(max_score)\n",
    "print(max_path)"
   ]
  },
  {
   "cell_type": "code",
   "execution_count": 12,
   "id": "dc89a16d",
   "metadata": {},
   "outputs": [],
   "source": [
    "def highlight_cell(x,y, ax=None, **kwargs):\n",
    "    rect = plt.Rectangle((x-.5, y-.5), 1,1, fill=False, **kwargs)\n",
    "    ax = ax or plt.gca()\n",
    "    ax.add_patch(rect)\n",
    "    return rect"
   ]
  },
  {
   "cell_type": "code",
   "execution_count": 28,
   "id": "4495aa38",
   "metadata": {},
   "outputs": [],
   "source": [
    "n = 20\n",
    "length = 12\n",
    "grid = [[68, 29, 40, 28, 69, 56,  0, 80,  3, 70, 44, 50, 17, 64, 28, 76,\n",
    "        31, 63, 72, 31],\n",
    "       [59, 32, 20, 22, 95, 44, 56,  4, 92, 67, 73, 63, 81, 56, 70, 11,\n",
    "        23, 30, 14, 34],\n",
    "       [39, 22, 51, 57, 55, 74, 80, 93, 40, 55, 46, 43, 67,  6, 68, 66,\n",
    "        48, 32, 37,  5],\n",
    "       [41, 83, 61, 94,  2, 74, 15, 64,  3, 84, 74, 17, 76, 61, 17, 80,\n",
    "        69, 81, 75,  6],\n",
    "       [14, 66, 86, 33, 93, 95, 24, 51, 10, 61, 58, 40, 55, 50,  3, 28,\n",
    "        99, 69, 93,  4],\n",
    "       [83, 64,  0, 73, 25,  6, 88, 53, 67, 50, 94, 57, 37, 96, 51, 72,\n",
    "        90,  1, 25, 75],\n",
    "       [52, 24, 75, 49,  8, 49, 10,  4, 41, 63, 91, 97, 66, 77, 65, 12,\n",
    "         5, 18, 28, 23],\n",
    "       [88,  9, 31, 91, 13, 30, 95, 84, 35, 29, 43, 98, 75,  0, 11, 18,\n",
    "        80, 55, 25, 85],\n",
    "       [76, 43, 88, 80, 48, 95, 59, 18, 86,  7, 20, 42, 76,  6, 80, 60,\n",
    "        63, 73, 56, 45],\n",
    "       [93, 39, 69,  9, 26, 64, 62, 25, 87, 81, 78, 12, 51, 33, 19, 78,\n",
    "        10, 56, 35, 95],\n",
    "       [50,  6, 44, 51, 26,  5, 77, 99, 64, 77, 35, 24, 82, 11, 34, 58,\n",
    "        46, 21, 46, 89],\n",
    "       [36, 83, 57,  9, 43, 84, 30, 17, 65, 39, 85, 97, 15, 10, 20, 61,\n",
    "        27, 73, 65, 88],\n",
    "       [82, 66, 41, 13, 23, 16, 80,  7, 28, 15, 48, 45, 84, 78, 18, 91,\n",
    "        14, 35, 88, 43],\n",
    "       [72, 84, 77, 62, 72, 88, 98, 46, 58, 23, 69,  4, 89, 88, 62, 91,\n",
    "        64, 18, 87,  9],\n",
    "       [11, 77, 93, 88, 15, 57, 79, 84, 29, 22, 34, 51, 20, 96, 34, 78,\n",
    "        57,  5, 71, 49],\n",
    "       [99, 52, 21, 62, 93, 43, 91, 51, 11, 27, 17,  3, 87, 80,  9, 85,\n",
    "        69, 42, 48, 42],\n",
    "       [83, 33, 91, 87, 71, 55, 20, 69, 90, 93, 44, 66, 78, 34, 37, 71,\n",
    "        24, 90, 65, 13],\n",
    "       [59, 27, 31, 35, 73, 26, 17, 60, 72, 82, 76, 63, 44, 87, 14, 20,\n",
    "        13, 33, 34, 90],\n",
    "       [46,  6,  1, 18, 40, 39,  1, 91, 38, 58, 93, 48,  0, 81, 97, 30,\n",
    "        88, 38, 94, 57],\n",
    "       [30, 44, 60, 85, 66, 21, 43, 79, 98, 37, 67, 83, 97, 85, 99,  4,\n",
    "        16, 61, 25, 71]]\n",
    "\n",
    "max_score = 972\n",
    "max_path = [(17, 10), (17, 11), (17, 12), (17, 13), (18, 13), (18, 14), (19, 14), (19, 13), (19, 12), (19, 11), (19, 10), (18, 10), (17, 10)]"
   ]
  },
  {
   "cell_type": "code",
   "execution_count": 29,
   "id": "ded1a13c",
   "metadata": {},
   "outputs": [
    {
     "data": {
      "image/png": "[encoded data removed]",
      "text/plain": [
       "<Figure size 640x480 with 1 Axes>"
      ]
     },
     "metadata": {},
     "output_type": "display_data"
    }
   ],
   "source": [
    "for i in range(len(max_path)):\n",
    "    plt.imshow(grid, interpolation='none', cmap=\"gray\")\n",
    "    for j in range(i):\n",
    "        highlight_cell(max_path[j][1],max_path[j][0], color=\"red\", linewidth=3)\n",
    "    highlight_cell(max_path[i][1],max_path[i][0], color=\"limegreen\", linewidth=3)\n",
    "    plt.show()\n",
    "    time.sleep(0.5)\n",
    "    clear_output(wait=True)"
   ]
  },
  {
   "cell_type": "code",
   "execution_count": 30,
   "id": "fcef41dd",
   "metadata": {},
   "outputs": [],
   "source": [
    "#RUNTIME: ~6 hours\n",
    "n = 20\n",
    "length = 14\n",
    "grid = [[68, 29, 40, 28, 69, 56,  0, 80,  3, 70, 44, 50, 17, 64, 28, 76,\n",
    "        31, 63, 72, 31],\n",
    "       [59, 32, 20, 22, 95, 44, 56,  4, 92, 67, 73, 63, 81, 56, 70, 11,\n",
    "        23, 30, 14, 34],\n",
    "       [39, 22, 51, 57, 55, 74, 80, 93, 40, 55, 46, 43, 67,  6, 68, 66,\n",
    "        48, 32, 37,  5],\n",
    "       [41, 83, 61, 94,  2, 74, 15, 64,  3, 84, 74, 17, 76, 61, 17, 80,\n",
    "        69, 81, 75,  6],\n",
    "       [14, 66, 86, 33, 93, 95, 24, 51, 10, 61, 58, 40, 55, 50,  3, 28,\n",
    "        99, 69, 93,  4],\n",
    "       [83, 64,  0, 73, 25,  6, 88, 53, 67, 50, 94, 57, 37, 96, 51, 72,\n",
    "        90,  1, 25, 75],\n",
    "       [52, 24, 75, 49,  8, 49, 10,  4, 41, 63, 91, 97, 66, 77, 65, 12,\n",
    "         5, 18, 28, 23],\n",
    "       [88,  9, 31, 91, 13, 30, 95, 84, 35, 29, 43, 98, 75,  0, 11, 18,\n",
    "        80, 55, 25, 85],\n",
    "       [76, 43, 88, 80, 48, 95, 59, 18, 86,  7, 20, 42, 76,  6, 80, 60,\n",
    "        63, 73, 56, 45],\n",
    "       [93, 39, 69,  9, 26, 64, 62, 25, 87, 81, 78, 12, 51, 33, 19, 78,\n",
    "        10, 56, 35, 95],\n",
    "       [50,  6, 44, 51, 26,  5, 77, 99, 64, 77, 35, 24, 82, 11, 34, 58,\n",
    "        46, 21, 46, 89],\n",
    "       [36, 83, 57,  9, 43, 84, 30, 17, 65, 39, 85, 97, 15, 10, 20, 61,\n",
    "        27, 73, 65, 88],\n",
    "       [82, 66, 41, 13, 23, 16, 80,  7, 28, 15, 48, 45, 84, 78, 18, 91,\n",
    "        14, 35, 88, 43],\n",
    "       [72, 84, 77, 62, 72, 88, 98, 46, 58, 23, 69,  4, 89, 88, 62, 91,\n",
    "        64, 18, 87,  9],\n",
    "       [11, 77, 93, 88, 15, 57, 79, 84, 29, 22, 34, 51, 20, 96, 34, 78,\n",
    "        57,  5, 71, 49],\n",
    "       [99, 52, 21, 62, 93, 43, 91, 51, 11, 27, 17,  3, 87, 80,  9, 85,\n",
    "        69, 42, 48, 42],\n",
    "       [83, 33, 91, 87, 71, 55, 20, 69, 90, 93, 44, 66, 78, 34, 37, 71,\n",
    "        24, 90, 65, 13],\n",
    "       [59, 27, 31, 35, 73, 26, 17, 60, 72, 82, 76, 63, 44, 87, 14, 20,\n",
    "        13, 33, 34, 90],\n",
    "       [46,  6,  1, 18, 40, 39,  1, 91, 38, 58, 93, 48,  0, 81, 97, 30,\n",
    "        88, 38, 94, 57],\n",
    "       [30, 44, 60, 85, 66, 21, 43, 79, 98, 37, 67, 83, 97, 85, 99,  4,\n",
    "        16, 61, 25, 71]]\n",
    "\n",
    "max_score = 1116\n",
    "max_path = [(16, 11), (16, 12), (17, 12), (17, 13), (18, 13), (18, 14), (19, 14), (19, 13), (19, 12), (19, 11), (19, 10), (18, 10), (17, 10), (17, 11), (16, 11)]"
   ]
  },
  {
   "cell_type": "code",
   "execution_count": 31,
   "id": "f6bc87a9",
   "metadata": {},
   "outputs": [
    {
     "data": {
      "image/png": "[encoded data removed]",
      "text/plain": [
       "<Figure size 640x480 with 1 Axes>"
      ]
     },
     "metadata": {},
     "output_type": "display_data"
    }
   ],
   "source": [
    "for i in range(len(max_path)):\n",
    "    plt.imshow(grid, interpolation='none', cmap=\"gray\")\n",
    "    for j in range(i):\n",
    "        highlight_cell(max_path[j][1],max_path[j][0], color=\"red\", linewidth=3)\n",
    "    highlight_cell(max_path[i][1],max_path[i][0], color=\"limegreen\", linewidth=3)\n",
    "    plt.show()\n",
    "    time.sleep(0.5)\n",
    "    clear_output(wait=True)"
   ]
  },
  {
   "cell_type": "code",
   "execution_count": 22,
   "id": "a36a3810",
   "metadata": {},
   "outputs": [
    {
     "data": {
      "image/png": "[encoded data removed]",
      "text/plain": [
       "<Figure size 640x480 with 1 Axes>"
      ]
     },
     "metadata": {},
     "output_type": "display_data"
    }
   ],
   "source": [
    "n = 4\n",
    "grid = [[0,0,10,0],\n",
    "       [0,0,0,0],\n",
    "       [0,0,0,0],\n",
    "       [0,10,10,0]]\n",
    "dirx = [-1, 0, 1, 0]\n",
    "diry = [0, 1, 0, -1]\n",
    "length = 6\n",
    "validPaths = []\n",
    "def dfs(x, y, goalx, goaly, curPath):\n",
    "    global validPaths, dirx, diry, length\n",
    "    curPath.append((x,y))\n",
    "    if (len(curPath)+abs(goalx-x)+abs(goaly-y) > length/2+1):\n",
    "        curPath.pop(-1)\n",
    "        return\n",
    "    if (len(curPath) == length/2+1):\n",
    "        validPaths.append(curPath.copy())\n",
    "        curPath.pop(-1)\n",
    "        return\n",
    "    for ind in range(4):\n",
    "        newx = dirx[ind] + x\n",
    "        newy = diry[ind] + y\n",
    "        if (newx >= n or newy >= n or newx < 0 or newy < 0):\n",
    "            continue\n",
    "        dfs(newx,newy,goalx,goaly,curPath)\n",
    "    curPath.pop(-1)\n",
    "max_score = 0\n",
    "max_path = []\n",
    "for i in tqdm(range(n)):\n",
    "    for j in range(n):\n",
    "        for k in range(n):\n",
    "            for l in range(n):\n",
    "                validPaths = []\n",
    "                dfs(i,j,k,l,[])\n",
    "                for firstPath in range(len(validPaths)):\n",
    "                    for secondPath in range(len(validPaths)):\n",
    "                        score = 0\n",
    "                        spath = set(validPaths[firstPath] + validPaths[secondPath])\n",
    "                        for point in spath:\n",
    "                            score += grid[point[0]][point[1]]\n",
    "                        if (max_score < score):\n",
    "                            max_score = score\n",
    "                            max_path = validPaths[firstPath][:-1] + validPaths[secondPath][::-1]\n",
    "print(max_score)\n",
    "print(max_path)\n",
    "for i in range(len(max_path)):\n",
    "    plt.imshow(grid, interpolation='none', cmap=\"gray\")\n",
    "    for j in range(i):\n",
    "        highlight_cell(max_path[j][1],max_path[j][0], color=\"red\", linewidth=3)\n",
    "    highlight_cell(max_path[i][1],max_path[i][0], color=\"limegreen\", linewidth=3)\n",
    "    plt.show()\n",
    "    time.sleep(0.5)\n",
    "    clear_output(wait=True)"
   ]
  },
  {
   "cell_type": "code",
   "execution_count": 23,
   "id": "17ab5c59",
   "metadata": {},
   "outputs": [
    {
     "data": {
      "image/png": "[encoded data removed]",
      "text/plain": [
       "<Figure size 640x480 with 1 Axes>"
      ]
     },
     "metadata": {},
     "output_type": "display_data"
    }
   ],
   "source": [
    "n = 4\n",
    "grid = [[0,0,10,0],\n",
    "       [0,0,0,0],\n",
    "       [0,0,0,0],\n",
    "       [0,10,10,0]]\n",
    "dirx = [-1, 0, 1, 0]\n",
    "diry = [0, 1, 0, -1]\n",
    "length = 8\n",
    "validPaths = []\n",
    "def dfs(x, y, goalx, goaly, curPath):\n",
    "    global validPaths, dirx, diry, length\n",
    "    curPath.append((x,y))\n",
    "    if (len(curPath)+abs(goalx-x)+abs(goaly-y) > length/2+1):\n",
    "        curPath.pop(-1)\n",
    "        return\n",
    "    if (len(curPath) == length/2+1):\n",
    "        validPaths.append(curPath.copy())\n",
    "        curPath.pop(-1)\n",
    "        return\n",
    "    for ind in range(4):\n",
    "        newx = dirx[ind] + x\n",
    "        newy = diry[ind] + y\n",
    "        if (newx >= n or newy >= n or newx < 0 or newy < 0):\n",
    "            continue\n",
    "        dfs(newx,newy,goalx,goaly,curPath)\n",
    "    curPath.pop(-1)\n",
    "max_score = 0\n",
    "max_path = []\n",
    "for i in tqdm(range(n)):\n",
    "    for j in range(n):\n",
    "        for k in range(n):\n",
    "            for l in range(n):\n",
    "                validPaths = []\n",
    "                dfs(i,j,k,l,[])\n",
    "                for firstPath in range(len(validPaths)):\n",
    "                    for secondPath in range(len(validPaths)):\n",
    "                        score = 0\n",
    "                        spath = set(validPaths[firstPath] + validPaths[secondPath])\n",
    "                        for point in spath:\n",
    "                            score += grid[point[0]][point[1]]\n",
    "                        if (max_score < score):\n",
    "                            max_score = score\n",
    "                            max_path = validPaths[firstPath][:-1] + validPaths[secondPath][::-1]\n",
    "print(max_score)\n",
    "print(max_path)\n",
    "for i in range(len(max_path)):\n",
    "    plt.imshow(grid, interpolation='none', cmap=\"gray\")\n",
    "    for j in range(i):\n",
    "        highlight_cell(max_path[j][1],max_path[j][0], color=\"red\", linewidth=3)\n",
    "    highlight_cell(max_path[i][1],max_path[i][0], color=\"limegreen\", linewidth=3)\n",
    "    plt.show()\n",
    "    time.sleep(0.5)\n",
    "    clear_output(wait=True)"
   ]
  },
  {
   "cell_type": "code",
   "execution_count": 24,
   "id": "9b52482d",
   "metadata": {},
   "outputs": [
    {
     "data": {
      "image/png": "[encoded data removed]",
      "text/plain": [
       "<Figure size 640x480 with 1 Axes>"
      ]
     },
     "metadata": {},
     "output_type": "display_data"
    }
   ],
   "source": [
    "n = 4\n",
    "grid = [[0,0,10,0],\n",
    "       [0,0,0,0],\n",
    "       [0,10,0,10],\n",
    "       [0,10,10,0]]\n",
    "dirx = [-1, 0, 1, 0]\n",
    "diry = [0, 1, 0, -1]\n",
    "length = 8\n",
    "validPaths = []\n",
    "def dfs(x, y, goalx, goaly, curPath):\n",
    "    global validPaths, dirx, diry, length\n",
    "    curPath.append((x,y))\n",
    "    if (len(curPath)+abs(goalx-x)+abs(goaly-y) > length/2+1):\n",
    "        curPath.pop(-1)\n",
    "        return\n",
    "    if (len(curPath) == length/2+1):\n",
    "        validPaths.append(curPath.copy())\n",
    "        curPath.pop(-1)\n",
    "        return\n",
    "    for ind in range(4):\n",
    "        newx = dirx[ind] + x\n",
    "        newy = diry[ind] + y\n",
    "        if (newx >= n or newy >= n or newx < 0 or newy < 0):\n",
    "            continue\n",
    "        dfs(newx,newy,goalx,goaly,curPath)\n",
    "    curPath.pop(-1)\n",
    "max_score = 0\n",
    "max_path = []\n",
    "for i in tqdm(range(n)):\n",
    "    for j in range(n):\n",
    "        for k in range(n):\n",
    "            for l in range(n):\n",
    "                validPaths = []\n",
    "                dfs(i,j,k,l,[])\n",
    "                for firstPath in range(len(validPaths)):\n",
    "                    for secondPath in range(len(validPaths)):\n",
    "                        score = 0\n",
    "                        spath = set(validPaths[firstPath] + validPaths[secondPath])\n",
    "                        for point in spath:\n",
    "                            score += grid[point[0]][point[1]]\n",
    "                        if (max_score < score):\n",
    "                            max_score = score\n",
    "                            max_path = validPaths[firstPath][:-1] + validPaths[secondPath][::-1]\n",
    "print(max_score)\n",
    "print(max_path)\n",
    "for i in range(len(max_path)):\n",
    "    plt.imshow(grid, interpolation='none', cmap=\"gray\")\n",
    "    for j in range(i):\n",
    "        highlight_cell(max_path[j][1],max_path[j][0], color=\"red\", linewidth=3)\n",
    "    highlight_cell(max_path[i][1],max_path[i][0], color=\"limegreen\", linewidth=3)\n",
    "    plt.show()\n",
    "    time.sleep(0.5)\n",
    "    clear_output(wait=True)"
   ]
  },
  {
   "cell_type": "code",
   "execution_count": 25,
   "id": "97d984a1",
   "metadata": {},
   "outputs": [
    {
     "data": {
      "image/png": "[encoded data removed]",
      "text/plain": [
       "<Figure size 640x480 with 1 Axes>"
      ]
     },
     "metadata": {},
     "output_type": "display_data"
    }
   ],
   "source": [
    "n = 4\n",
    "grid = [[0,0,0,0],\n",
    "       [10,0,0,0],\n",
    "       [0,10,0,10],\n",
    "       [0,10,10,0]]\n",
    "dirx = [-1, 0, 1, 0]\n",
    "diry = [0, 1, 0, -1]\n",
    "length = 8\n",
    "validPaths = []\n",
    "def dfs(x, y, goalx, goaly, curPath):\n",
    "    global validPaths, dirx, diry, length\n",
    "    curPath.append((x,y))\n",
    "    if (len(curPath)+abs(goalx-x)+abs(goaly-y) > length/2+1):\n",
    "        curPath.pop(-1)\n",
    "        return\n",
    "    if (len(curPath) == length/2+1):\n",
    "        validPaths.append(curPath.copy())\n",
    "        curPath.pop(-1)\n",
    "        return\n",
    "    for ind in range(4):\n",
    "        newx = dirx[ind] + x\n",
    "        newy = diry[ind] + y\n",
    "        if (newx >= n or newy >= n or newx < 0 or newy < 0):\n",
    "            continue\n",
    "        dfs(newx,newy,goalx,goaly,curPath)\n",
    "    curPath.pop(-1)\n",
    "max_score = 0\n",
    "max_path = []\n",
    "for i in tqdm(range(n)):\n",
    "    for j in range(n):\n",
    "        for k in range(n):\n",
    "            for l in range(n):\n",
    "                validPaths = []\n",
    "                dfs(i,j,k,l,[])\n",
    "                for firstPath in range(len(validPaths)):\n",
    "                    for secondPath in range(len(validPaths)):\n",
    "                        score = 0\n",
    "                        spath = set(validPaths[firstPath] + validPaths[secondPath])\n",
    "                        for point in spath:\n",
    "                            score += grid[point[0]][point[1]]\n",
    "                        if (max_score < score):\n",
    "                            max_score = score\n",
    "                            max_path = validPaths[firstPath][:-1] + validPaths[secondPath][::-1]\n",
    "print(max_score)\n",
    "print(max_path)\n",
    "for i in range(len(max_path)):\n",
    "    plt.imshow(grid, interpolation='none', cmap=\"gray\")\n",
    "    for j in range(i):\n",
    "        highlight_cell(max_path[j][1],max_path[j][0], color=\"red\", linewidth=3)\n",
    "    highlight_cell(max_path[i][1],max_path[i][0], color=\"limegreen\", linewidth=3)\n",
    "    plt.show()\n",
    "    time.sleep(0.5)\n",
    "    clear_output(wait=True)"
   ]
  },
  {
   "cell_type": "code",
   "execution_count": 27,
   "id": "88a30b04",
   "metadata": {},
   "outputs": [
    {
     "data": {
      "image/png": "[encoded data removed]",
      "text/plain": [
       "<Figure size 640x480 with 1 Axes>"
      ]
     },
     "metadata": {},
     "output_type": "display_data"
    }
   ],
   "source": [
    "n = 4\n",
    "grid = [[30,30,0,0],\n",
    "       [30,30,0,0],\n",
    "       [0,0,0,0],\n",
    "       [0,0,0,100]]\n",
    "dirx = [-1, 0, 1, 0]\n",
    "diry = [0, 1, 0, -1]\n",
    "length = 8\n",
    "validPaths = []\n",
    "def dfs(x, y, goalx, goaly, curPath):\n",
    "    global validPaths, dirx, diry, length\n",
    "    curPath.append((x,y))\n",
    "    if (len(curPath)+abs(goalx-x)+abs(goaly-y) > length/2+1):\n",
    "        curPath.pop(-1)\n",
    "        return\n",
    "    if (len(curPath) == length/2+1):\n",
    "        validPaths.append(curPath.copy())\n",
    "        curPath.pop(-1)\n",
    "        return\n",
    "    for ind in range(4):\n",
    "        newx = dirx[ind] + x\n",
    "        newy = diry[ind] + y\n",
    "        if (newx >= n or newy >= n or newx < 0 or newy < 0):\n",
    "            continue\n",
    "        dfs(newx,newy,goalx,goaly,curPath)\n",
    "    curPath.pop(-1)\n",
    "max_score = 0\n",
    "max_path = []\n",
    "for i in tqdm(range(n)):\n",
    "    for j in range(n):\n",
    "        for k in range(n):\n",
    "            for l in range(n):\n",
    "                validPaths = []\n",
    "                dfs(i,j,k,l,[])\n",
    "                for firstPath in range(len(validPaths)):\n",
    "                    for secondPath in range(len(validPaths)):\n",
    "                        score = 0\n",
    "                        spath = set(validPaths[firstPath] + validPaths[secondPath])\n",
    "                        for point in spath:\n",
    "                            score += grid[point[0]][point[1]]\n",
    "                        if (max_score < score):\n",
    "                            max_score = score\n",
    "                            max_path = validPaths[firstPath][:-1] + validPaths[secondPath][::-1]\n",
    "print(max_score)\n",
    "print(max_path)\n",
    "for i in range(len(max_path)):\n",
    "    plt.imshow(grid, interpolation='none', cmap=\"gray\")\n",
    "    for j in range(i):\n",
    "        highlight_cell(max_path[j][1],max_path[j][0], color=\"red\", linewidth=3)\n",
    "    highlight_cell(max_path[i][1],max_path[i][0], color=\"limegreen\", linewidth=3)\n",
    "    plt.show()\n",
    "    time.sleep(0.5)\n",
    "    clear_output(wait=True)"
   ]
  },
  {
   "cell_type": "code",
   "execution_count": null,
   "id": "39034480",
   "metadata": {},
   "outputs": [],
   "source": []
  }
 ],
 "metadata": {
  "kernelspec": {
   "display_name": "Python 3 (ipykernel)",
   "language": "python",
   "name": "python3"
  },
  "language_info": {
   "codemirror_mode": {
    "name": "ipython",
    "version": 3
   },
   "file_extension": ".py",
   "mimetype": "text/x-python",
   "name": "python",
   "nbconvert_exporter": "python",
   "pygments_lexer": "ipython3",
   "version": "3.10.12"
  }
 },
 "nbformat": 4,
 "nbformat_minor": 5
}
