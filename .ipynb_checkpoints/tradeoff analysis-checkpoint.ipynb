{
 "cells": [
  {
   "cell_type": "code",
   "execution_count": null,
   "id": "e76a60fc",
   "metadata": {},
   "outputs": [],
   "source": [
    "import pandas as pd\n",
    "import geopandas\n",
    "import numpy as np\n",
    "import matplotlib.pyplot as plt\n",
    "from tqdm.notebook import tqdm\n",
    "\n",
    "cell_geo = pd.read_pickle(\"./dataframes/cell_geometry\")\n",
    "cell = geopandas.GeoDataFrame(cell_geo, columns=['geometry'], \n",
    "                                 crs='epsg:4326')\n",
    "jsonfile = ('./mygeodata/fire_station_point.geojson')\n",
    "fire_station_points = geopandas.read_file(jsonfile)\n",
    "linear_interpolation_log = pd.read_pickle(\"./dataframes/linear_interpolation_log\")"
   ]
  },
  {
   "cell_type": "code",
   "execution_count": null,
   "id": "4c4421a3",
   "metadata": {},
   "outputs": [],
   "source": [
    "jsonfile = ('/Users/christopher/Downloads/ark28722-s73w23-geojson.json')\n",
    "world = geopandas.read_file(jsonfile)\n",
    "import matplotlib.colors as colors\n",
    "\n",
    "def plotter(dataset):\n",
    "    cell[\"interpolated_value\"] = dataset\n",
    "    ax = cell.plot(column='interpolated_value', figsize=(8, 8), cmap='plasma', legend=True)\n",
    "    world.to_crs(cell.crs).plot(ax = ax, color = \"none\", edgecolor = 'black', figsize = (8,8))\n",
    "    return ax\n",
    "def log_plotter(dataset):\n",
    "    cell[\"interpolated_value\"] = dataset\n",
    "    ax = cell.plot(column='interpolated_value', figsize=(8, 8), cmap='plasma', norm=colors.SymLogNorm(vmin=cell[\"interpolated_value\"].min(), vmax=cell[\"interpolated_value\"].max(), linthresh = 0.02), legend=True)\n",
    "    world.to_crs(cell.crs).plot(ax = ax, color = \"none\", edgecolor = 'black', figsize = (8,8))\n"
   ]
  },
  {
   "cell_type": "code",
   "execution_count": null,
   "id": "f4452c80",
   "metadata": {},
   "outputs": [],
   "source": []
  }
 ],
 "metadata": {
  "kernelspec": {
   "display_name": "Python 3 (ipykernel)",
   "language": "python",
   "name": "python3"
  },
  "language_info": {
   "codemirror_mode": {
    "name": "ipython",
    "version": 3
   },
   "file_extension": ".py",
   "mimetype": "text/x-python",
   "name": "python",
   "nbconvert_exporter": "python",
   "pygments_lexer": "ipython3",
   "version": "3.10.12"
  }
 },
 "nbformat": 4,
 "nbformat_minor": 5
}
