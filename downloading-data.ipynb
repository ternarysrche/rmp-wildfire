{
 "cells": [
  {
   "cell_type": "code",
   "execution_count": 7,
   "id": "353f8ec1",
   "metadata": {},
   "outputs": [],
   "source": [
    "import requests\n",
    "import geopandas"
   ]
  },
  {
   "cell_type": "code",
   "execution_count": 19,
   "id": "a2a2a180",
   "metadata": {},
   "outputs": [
    {
     "name": "stderr",
     "output_type": "stream",
     "text": [
      "/var/folders/xt/52zb2sgj4q9f84tyf9cg1yf00000gn/T/ipykernel_65038/3777615979.py:1: DeprecationWarning: Importing display from IPython.core.display is deprecated since IPython 7.14, please import from IPython display\n",
      "  from IPython.core.display import display, HTML\n"
     ]
    },
    {
     "data": {
      "text/html": [
       "<style>.container { width:100% !important; }</style>"
      ],
      "text/plain": [
       "<IPython.core.display.HTML object>"
      ]
     },
     "metadata": {},
     "output_type": "display_data"
    }
   ],
   "source": [
    "from IPython.core.display import display, HTML\n",
    "display(HTML(\"<style>.container { width:100% !important; }</style>\"))"
   ]
  },
  {
   "cell_type": "code",
   "execution_count": 17,
   "id": "75a3a861",
   "metadata": {},
   "outputs": [],
   "source": [
    "response = requests.get(\"https://incidents.fire.ca.gov/umbraco/api/IncidentApi/GeoJsonList?year=2013\")"
   ]
  },
  {
   "cell_type": "code",
   "execution_count": 18,
   "id": "7d91cec3",
   "metadata": {},
   "outputs": [
    {
     "data": {
      "text/plain": [
       "requests.models.Response"
      ]
     },
     "execution_count": 18,
     "metadata": {},
     "output_type": "execute_result"
    }
   ],
   "source": [
    "type(response)"
   ]
  },
  {
   "cell_type": "code",
   "execution_count": 9,
   "id": "15f49182",
   "metadata": {},
   "outputs": [],
   "source": [
    "fires = response.json()"
   ]
  },
  {
   "cell_type": "code",
   "execution_count": 11,
   "id": "b219a979",
   "metadata": {},
   "outputs": [
    {
     "name": "stdout",
     "output_type": "stream",
     "text": [
      "                      geometry          Name  Final               Updated  \\\n",
      "0  POINT (-117.56583 34.29310)      Nob Fire  False  2023-05-10T15:02:44Z   \n",
      "1  POINT (-116.09275 33.56934)       66 Fire   True  2023-05-28T15:35:24Z   \n",
      "2  POINT (-116.06140 33.46260)  Johnson Fire   True  2023-05-23T10:23:19Z   \n",
      "3  POINT (-122.47542 40.41768)    Point Fire   True  2023-05-23T08:52:30Z   \n",
      "4  POINT (-117.03371 33.82342)   Ramona Fire   True  2023-05-26T19:37:34Z   \n",
      "\n",
      "                Started                                          AdminUnit  \\\n",
      "0  2023-04-26T10:16:00Z                     San Bernardino National Forest   \n",
      "1  2023-05-15T12:10:00Z                            CAL FIRE Riverside Unit   \n",
      "2  2023-05-20T20:34:18Z  CAL FIRE / Riverside County Fire and Bureau of...   \n",
      "3  2023-05-21T17:45:00Z                     CAL FIRE Shasta - Trinity Unit   \n",
      "4  2023-05-22T14:11:00Z                              Riverside County Fire   \n",
      "\n",
      "  AdminUnitUrl          County  \\\n",
      "0         None  San Bernardino   \n",
      "1         None       Riverside   \n",
      "2         None       Riverside   \n",
      "3         None          Shasta   \n",
      "4         None       Riverside   \n",
      "\n",
      "                                            Location  AcresBurned  ...  \\\n",
      "0    East Blue Ridge and Paiute, south of Wrightwood          NaN  ...   \n",
      "1                                  Ave 66 and Hwy 86        127.0  ...   \n",
      "2              Johnson Street and 81st Avenue, Mecca          NaN  ...   \n",
      "3  Two Feathers Road and Wagon Gulch Road, 13 mil...         10.0  ...   \n",
      "4                  Ramona Expressway and N Warren Rd        348.0  ...   \n",
      "\n",
      "    Latitude      Type                              UniqueId  \\\n",
      "0  34.293103  Wildfire  8cd5adf0-00de-4f9c-9d5d-2637f7c0972e   \n",
      "1  33.569342  Wildfire  a56115f1-5eca-4dc1-b576-cbeb67ed4b5b   \n",
      "2  33.462600  Wildfire  372264df-a6df-41b0-91b1-6b1ed6547a11   \n",
      "3  40.417676  Wildfire  c2deabb9-7935-4a0a-8fba-4d4005e4bf1c   \n",
      "4  33.823424  Wildfire  e44f5b6b-c6e6-461a-a9ab-d442e08de3ea   \n",
      "\n",
      "                                                 Url      ExtinguishedDate  \\\n",
      "0  https://incidents.fire.ca.gov/incidents/2023/4...                         \n",
      "1  https://incidents.fire.ca.gov/incidents/2023/5...  2023-05-18T19:00:00Z   \n",
      "2  https://incidents.fire.ca.gov/incidents/2023/5...  2023-05-23T10:23:13Z   \n",
      "3  https://incidents.fire.ca.gov/incidents/2023/5...                         \n",
      "4  https://incidents.fire.ca.gov/incidents/2023/5...  2023-05-25T20:00:10Z   \n",
      "\n",
      "  ExtinguishedDateOnly StartedDateOnly IsActive CalFireIncident  \\\n",
      "0                           2023-04-26    False           False   \n",
      "1           2023-05-18      2023-05-15    False            True   \n",
      "2           2023-05-23      2023-05-20    False           False   \n",
      "3                           2023-05-21    False            True   \n",
      "4           2023-05-25      2023-05-22    False            True   \n",
      "\n",
      "  NotificationDesired  \n",
      "0               False  \n",
      "1               False  \n",
      "2               False  \n",
      "3               False  \n",
      "4               False  \n",
      "\n",
      "[5 rows x 24 columns]\n"
     ]
    }
   ],
   "source": [
    "fires_gdf = geopandas.GeoDataFrame.from_features(fires[\"features\"])\n"
   ]
  },
  {
   "cell_type": "code",
   "execution_count": 12,
   "id": "2bda2dbd",
   "metadata": {},
   "outputs": [
    {
     "data": {
      "text/plain": [
       "Index(['geometry', 'Name', 'Final', 'Updated', 'Started', 'AdminUnit',\n",
       "       'AdminUnitUrl', 'County', 'Location', 'AcresBurned', 'PercentContained',\n",
       "       'ControlStatement', 'AgencyNames', 'Longitude', 'Latitude', 'Type',\n",
       "       'UniqueId', 'Url', 'ExtinguishedDate', 'ExtinguishedDateOnly',\n",
       "       'StartedDateOnly', 'IsActive', 'CalFireIncident',\n",
       "       'NotificationDesired'],\n",
       "      dtype='object')"
      ]
     },
     "execution_count": 12,
     "metadata": {},
     "output_type": "execute_result"
    }
   ],
   "source": [
    "fires_gdf.columns"
   ]
  },
  {
   "cell_type": "code",
   "execution_count": 13,
   "id": "3359c8fa",
   "metadata": {},
   "outputs": [
    {
     "data": {
      "text/plain": [
       "'2023-04-26T10:16:00Z'"
      ]
     },
     "execution_count": 13,
     "metadata": {},
     "output_type": "execute_result"
    }
   ],
   "source": [
    "fires_gdf[\"Started\"].min()"
   ]
  },
  {
   "cell_type": "code",
   "execution_count": 14,
   "id": "74d25df4",
   "metadata": {},
   "outputs": [
    {
     "data": {
      "text/plain": [
       "'2023-06-30T14:11:00Z'"
      ]
     },
     "execution_count": 14,
     "metadata": {},
     "output_type": "execute_result"
    }
   ],
   "source": [
    "fires_gdf[\"Started\"].max()"
   ]
  },
  {
   "cell_type": "code",
   "execution_count": 15,
   "id": "058bd4de",
   "metadata": {},
   "outputs": [
    {
     "data": {
      "text/plain": [
       "31"
      ]
     },
     "execution_count": 15,
     "metadata": {},
     "output_type": "execute_result"
    }
   ],
   "source": [
    "len(fires_gdf)"
   ]
  },
  {
   "cell_type": "code",
   "execution_count": null,
   "id": "a20235a9",
   "metadata": {},
   "outputs": [],
   "source": []
  }
 ],
 "metadata": {
  "kernelspec": {
   "display_name": "Python 3 (ipykernel)",
   "language": "python",
   "name": "python3"
  },
  "language_info": {
   "codemirror_mode": {
    "name": "ipython",
    "version": 3
   },
   "file_extension": ".py",
   "mimetype": "text/x-python",
   "name": "python",
   "nbconvert_exporter": "python",
   "pygments_lexer": "ipython3",
   "version": "3.10.12"
  }
 },
 "nbformat": 4,
 "nbformat_minor": 5
}
